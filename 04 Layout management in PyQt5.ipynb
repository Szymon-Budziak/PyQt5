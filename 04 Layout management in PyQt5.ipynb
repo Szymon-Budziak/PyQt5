{
 "cells": [
  {
   "cell_type": "markdown",
   "metadata": {},
   "source": [
    "## Absolute positioning"
   ]
  },
  {
   "cell_type": "code",
   "execution_count": 1,
   "metadata": {},
   "outputs": [],
   "source": [
    "# When you use absolute positioning, we have to understand the following limitations:\n",
    "# - the size and the position of a widget don't change if we resize a window\n",
    "# - applications might look different on various platforms\n",
    "# - changing fonts in our application might poil layour\n",
    "# - if we decide to change our layout, we must completely redo uor layout, which is tedious and time consuming"
   ]
  },
  {
   "cell_type": "code",
   "execution_count": 2,
   "metadata": {},
   "outputs": [],
   "source": [
    "import sys\n",
    "from PyQt5.QtWidgets import QWidget, QLabel, QApplication"
   ]
  },
  {
   "cell_type": "code",
   "execution_count": null,
   "metadata": {},
   "outputs": [],
   "source": [
    "class Example(QWidget):\n",
    "    def __init__(self):\n",
    "        super().__init__()\n",
    "        self.initUI()\n",
    "        \n",
    "    def initUI(self):\n",
    "        lbl1 = QLabel('PyQt5', self)\n",
    "        lbl1.move(15, 10)\n",
    "        \n",
    "        lbl2 = QLabel('tutorials', self)\n",
    "        lbl2.move(35, 40)\n",
    "        \n",
    "        lbl3 = QLabel('for programmers', self)\n",
    "        lbl3.move(55, 70)\n",
    "        \n",
    "        self.setGeometry(300, 300, 250, 150)\n",
    "        self.setWindowTitle('Absolute')\n",
    "        self.show()\n",
    "\n",
    "        \n",
    "def main():\n",
    "    app = QApplication(sys.argv)\n",
    "    ex = Example()\n",
    "    sys.exit(app.exec_())\n",
    "    \n",
    "if __name__ == '__main__':\n",
    "    main()\n",
    "# This example positions widgets in absolute coordinates.\n",
    "# We use the move() method to position our widgets and in our case these are labels.\n",
    "# We position them by providing the x and y coordinates.\n",
    "# The beginning of the coordinate system is at the left top corner.\n",
    "# The x values frow from left to right. The y values from from top to bottom."
   ]
  },
  {
   "cell_type": "markdown",
   "metadata": {},
   "source": [
    "## PyQt5 QHBoxLayout"
   ]
  },
  {
   "cell_type": "code",
   "execution_count": null,
   "metadata": {},
   "outputs": [],
   "source": [
    "# QHBoxLayout and QVBoxLayout are basic alyout classes that line up widgets horizontally and vertically."
   ]
  },
  {
   "cell_type": "code",
   "execution_count": null,
   "metadata": {},
   "outputs": [],
   "source": [
    "import sys\n",
    "from PyQt5.QtWidgets import QWidget, QPushButton, QHBoxLayout, QVBoxLayout, QApplication"
   ]
  },
  {
   "cell_type": "code",
   "execution_count": null,
   "metadata": {},
   "outputs": [],
   "source": [
    "class Example2(QWidget):\n",
    "    def __init__(self):\n",
    "        super().__init__()\n",
    "        self.initUI()\n",
    "        \n",
    "    def initUI(self):\n",
    "        okButton = QPushButton('OK')\n",
    "        cancelButton = QPushButton('Cancel')\n",
    "        \n",
    "        hbox = QHBoxLayout()\n",
    "        hbox.addStretch(1)\n",
    "        hbox.addWidget(okButton)\n",
    "        hbox.addWidget(cancelButton)\n",
    "        \n",
    "        vbox = QVBoxLayout()\n",
    "        vbox.addStretch(1)\n",
    "        vbox.addLayout(hbox)\n",
    "        \n",
    "        self.setLayout(vbox)\n",
    "        \n",
    "        self.setGeometry(300, 300, 300, 150)\n",
    "        self.setWindowTitle('Buttons')\n",
    "        self.show()\n",
    "        \n",
    "        \n",
    "def main():\n",
    "    app =QApplication(sys.argv)\n",
    "    ex = Example2()\n",
    "    sys.exit(app.exec_())\n",
    "    \n",
    "if __name__ == '__main__':\n",
    "    main()\n",
    "# Both of the buttons stay in the bottom-right corner of the window even when we resize the application window.\n",
    "# We use both a QHBoxLayout and a QVBoxLayout.\n",
    "# We create a horizontal box layout and add a stretch factor and both buttons.\n",
    "# The stretch adds a stretchable space before the two buttons. This will push them to the right of the window.\n",
    "# The horizontal layout is places into the vertical layout.\n",
    "# The stretch factor in the vertical box will push the horizontal box with the buttons to the bottom of the window."
   ]
  },
  {
   "cell_type": "markdown",
   "metadata": {},
   "source": [
    "## PyQT5 QGridLayout"
   ]
  },
  {
   "cell_type": "code",
   "execution_count": null,
   "metadata": {},
   "outputs": [],
   "source": [
    "# QGridLayout is the most universal layout class. It divides the space into rows and columns."
   ]
  },
  {
   "cell_type": "code",
   "execution_count": null,
   "metadata": {},
   "outputs": [],
   "source": [
    "import sys\n",
    "from PyQt5.QtWidgets import QWidget, QGridLayout, QPushButton, QApplication"
   ]
  },
  {
   "cell_type": "code",
   "execution_count": null,
   "metadata": {},
   "outputs": [],
   "source": [
    "class Example3(QWidget):\n",
    "    def __init__(self):\n",
    "        super().__init__()\n",
    "        self.initUI()\n",
    "        \n",
    "    def initUI(self):\n",
    "        grid = QGridLayout()\n",
    "        self.setLayout(grid)\n",
    "        names = ['Cls', 'Bck', '', 'Close', '7', '8', '9', '/', '4', '5', '6', '*',\n",
    "                 '1', '2', '3', '-', '0', '.', '=', '+']\n",
    "        \n",
    "        positions = [(i, j) for i in range(5) for j in range(4)]\n",
    "        for position, name in zip(positions, names):\n",
    "            if name == '':\n",
    "                continue\n",
    "            button = QPushButton(name)\n",
    "            grid.addWidget(button, *position)\n",
    "        \n",
    "        self.move(300, 150)\n",
    "        self.setWindowTitle('Calculator')\n",
    "        self.show()\n",
    "        \n",
    "\n",
    "def main():\n",
    "    app = QApplication(sys.argv)\n",
    "    ex = Example3()\n",
    "    sys.exit(app.exec_())\n",
    "    \n",
    "if __name__ == '__main__':\n",
    "    main()\n",
    "# In this example we create a grid of buttons.\n",
    "# The instance of a QGridLayout is created and set to be the layoout for the application window.\n",
    "# Buttons are created and added to the layout with the addWidget() method."
   ]
  },
  {
   "cell_type": "markdown",
   "metadata": {},
   "source": [
    "## Review example"
   ]
  },
  {
   "cell_type": "code",
   "execution_count": null,
   "metadata": {},
   "outputs": [],
   "source": [
    "# Widgets can span multiple columns or rows in a grid."
   ]
  },
  {
   "cell_type": "code",
   "execution_count": null,
   "metadata": {},
   "outputs": [],
   "source": [
    "import sys\n",
    "from PyQt5.QtWidgets import QWidget, QLabel, QLineEdit, QTextEdit, QGridLayout, QApplication"
   ]
  },
  {
   "cell_type": "code",
   "execution_count": null,
   "metadata": {},
   "outputs": [],
   "source": [
    "class Example4(QWidget):\n",
    "    def __init__(self):\n",
    "        super().__init__()\n",
    "        self.initUI()\n",
    "        \n",
    "    def initUI(self):\n",
    "        title = QLabel('Title')\n",
    "        author = QLabel('Author')\n",
    "        review = QLabel('Review')\n",
    "        \n",
    "        titleEdit = QLineEdit()\n",
    "        authorEdit = QLineEdit()\n",
    "        reviewEdit = QTextEdit()\n",
    "        \n",
    "        grid = QGridLayout()\n",
    "        grid.setSpacing(10)\n",
    "        \n",
    "        grid.addWidget(title, 1, 0)\n",
    "        grid.addWidget(titleEdit, 1 ,1)\n",
    "        \n",
    "        grid.addWidget(author, 2, 0)\n",
    "        grid.addWidget(authorEdit, 2, 1)\n",
    "        \n",
    "        grid.addWidget(review, 3, 0)\n",
    "        grid.addWidget(reviewEdit, 3, 1, 5, 1)\n",
    "        \n",
    "        self.setLayout(grid)\n",
    "        \n",
    "        self.setGeometry(300, 300, 350, 300)\n",
    "        self.setWindowTitle('Review')\n",
    "        self.show()\n",
    "\n",
    "        \n",
    "def main():\n",
    "    app = QApplication(sys.argv)\n",
    "    ex = Example4()\n",
    "    sys.exit(app.exec_())\n",
    "\n",
    "if __name__ =='__main__':\n",
    "    main()\n",
    "# The layout is done with the QGridLayout.\n",
    "# We create a grid layout and set spacing between widgets.\n",
    "# If we add a widget to a grid, we can provide row span and column span of the widget.\n",
    "# In our example we make the reviewEdit widget span 5 rows."
   ]
  }
 ],
 "metadata": {
  "kernelspec": {
   "display_name": "Python 3",
   "language": "python",
   "name": "python3"
  },
  "language_info": {
   "codemirror_mode": {
    "name": "ipython",
    "version": 3
   },
   "file_extension": ".py",
   "mimetype": "text/x-python",
   "name": "python",
   "nbconvert_exporter": "python",
   "pygments_lexer": "ipython3",
   "version": "3.8.5"
  }
 },
 "nbformat": 4,
 "nbformat_minor": 4
}
