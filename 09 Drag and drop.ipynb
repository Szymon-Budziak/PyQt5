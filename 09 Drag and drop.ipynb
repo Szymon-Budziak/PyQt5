{
 "cells": [
  {
   "cell_type": "code",
   "execution_count": 1,
   "metadata": {},
   "outputs": [],
   "source": [
    "# In computer graphical user interfaces, drag-and-drop is the action of (or support for the \n",
    "# action of)clicking on a virtual object and dragging it to a different location or onto\n",
    "# another virtual object.\n",
    "# In genreal, it can be used to invoke many kinds of actions, or create various types of\n",
    "# associations between two abstract objects.\n",
    "# Drag and drop is part of the graphical user interface. Drag and drop operations enable users\n",
    "# to do complex things intuitively.\n",
    "# Usually we can drag and drop two things: data or some graphical objects.\n",
    "# If we drag an image from one application to another, we drag and drop binary data.\n",
    "# If we drag a tab in Firefox and move it to another place, we drag and drop a graphical component."
   ]
  },
  {
   "cell_type": "markdown",
   "metadata": {},
   "source": [
    "## QDrag"
   ]
  },
  {
   "cell_type": "code",
   "execution_count": 2,
   "metadata": {},
   "outputs": [],
   "source": [
    "# Drag provides support for MIME-based drag and drop data transfer. It handles most of the\n",
    "# details of a drag and drop operation. The transfered data is contained in a QMimeData object."
   ]
  },
  {
   "cell_type": "markdown",
   "metadata": {},
   "source": [
    "## Drag and drop examples"
   ]
  },
  {
   "cell_type": "code",
   "execution_count": 3,
   "metadata": {},
   "outputs": [],
   "source": [
    "# In the first example we have a QLineEdit and a QPushButton. We drag plain text from the line\n",
    "# edit widget and drop it onto the button widget. The buttons's label will change."
   ]
  },
  {
   "cell_type": "code",
   "execution_count": 4,
   "metadata": {},
   "outputs": [],
   "source": [
    "import sys\n",
    "from PyQt5.QtWidgets import QWidget, QApplication, QPushButton, QLineEdit"
   ]
  },
  {
   "cell_type": "code",
   "execution_count": null,
   "metadata": {},
   "outputs": [],
   "source": [
    "class Button(QPushButton):\n",
    "    def __init__(self, title, parent):\n",
    "        super().__init__(title, parent)\n",
    "        self.setAcceptDrops(True)\n",
    "        \n",
    "    def dragEnterEvent(self, e):\n",
    "        if e.mimeData().hasFormat('text/plain'):\n",
    "            e.accept()\n",
    "        else:\n",
    "            e.ignore()\n",
    "            \n",
    "    def dropEvent(self, e):\n",
    "        self.setText(e.mimeData().text())\n",
    "        \n",
    "        \n",
    "class Example(QWidget):\n",
    "    def __init__(self):\n",
    "        super().__init__()\n",
    "        self.initUI()\n",
    "        \n",
    "    def initUI(self):\n",
    "        edit = QLineEdit('', self)\n",
    "        edit.setDragEnabled(True)\n",
    "        edit.move(30, 65)\n",
    "        \n",
    "        button = Button('Button', self)\n",
    "        button.move(190, 65)\n",
    "        \n",
    "        self.setWindowTitle('Simple drag and drop')\n",
    "        self.setGeometry(300, 300, 300, 150)\n",
    "        \n",
    "        \n",
    "def main():\n",
    "    app = QApplication(sys.argv)\n",
    "    ex = Example()\n",
    "    ex.show()\n",
    "    app.exec_()\n",
    "    \n",
    "if __name__ == '__main__':\n",
    "    main()\n",
    "# In this example we present a simple drag & drop operation.\n",
    "# In order to drop text on the QPushButton widget, we must reimplement some methods.\n",
    "# Therefore, we create our own Button class which will inherit from the QPushButton class.\n",
    "# We enable drop events for the widget with setAcceptDrops().\n",
    "# First, we reimplement the dragEnterEvent() method. We inform about the data type that we accept.\n",
    "# By reimplementing the dropEvent() method we define what happens at the drop event.\n",
    "# The QLineEdit widget has a built-in support for drag operations.\n",
    "# All we need to do is to call the setDragEnabled() method to activate it."
   ]
  },
  {
   "cell_type": "markdown",
   "metadata": {},
   "source": [
    "## Drag and drop a button widget"
   ]
  },
  {
   "cell_type": "code",
   "execution_count": null,
   "metadata": {},
   "outputs": [],
   "source": [
    "import sys\n",
    "from PyQt5.QtWidgets import QWidget, QApplication, QPushButton\n",
    "from PyQt5.QtGui import QDrag\n",
    "from PyQt5.QtCore import Qt, QMimeData"
   ]
  },
  {
   "cell_type": "code",
   "execution_count": null,
   "metadata": {},
   "outputs": [],
   "source": [
    "class Button2(QPushButton):\n",
    "    def __init__(self, title, parent):\n",
    "        super().__init__(title, parent)\n",
    "        \n",
    "    def mouseMoveEvent(self, e):\n",
    "        if e.buttons() != Qt.RightButton:\n",
    "            return\n",
    "        mimeData = QMimeData()\n",
    "        \n",
    "        drag = QDrag(self)\n",
    "        drag.setMimeData(mimeData)\n",
    "        drag.setHotSpot(e.pos() - self.rect().topLeft())\n",
    "        \n",
    "        dropAction = drag.exec_(Qt.MoveAction)\n",
    "        \n",
    "    def mousePressEvent(self, e):\n",
    "        super().mousePressEvent(e)\n",
    "        if e.button() == Qt.LeftButton:\n",
    "            print('press')\n",
    "            \n",
    "            \n",
    "class Example2(QWidget):\n",
    "    def __init__(self):\n",
    "        super().__init__()\n",
    "        self.initUI()\n",
    "        \n",
    "    def initUI(self):\n",
    "        self.setAcceptDrops(True)\n",
    "        \n",
    "        self.button = Button2('Button', self)\n",
    "        self.button.move(100, 65)\n",
    "        \n",
    "        self.setGeometry(300, 300, 550, 450)\n",
    "        self.setWindowTitle('Click or Move')\n",
    "        \n",
    "    def dragEnterEvent(self, e):\n",
    "        e.accept()\n",
    "        \n",
    "    def dropEvent(self, e):\n",
    "        position = e.pos()\n",
    "        self.button.move(position)\n",
    "        \n",
    "        e.setDropAction(Qt.MoveAction)\n",
    "        e.accept()\n",
    "        \n",
    "        \n",
    "def main():\n",
    "    app = QApplication(sys.argv)\n",
    "    ex = Example2()\n",
    "    ex.show()\n",
    "    app.exec_()\n",
    "    \n",
    "if __name__ == '__main__':\n",
    "    main()\n",
    "# In this example we have a QPushButton on the window. If we lick on the button with a left\n",
    "# mouse button, the 'press' message is printed to the console. By right clicking and moving\n",
    "# the button, we perform a drag and drop operation on the button widget.\n",
    "# We create a Button class which derives from the QPushButton.\n",
    "# We also reimplement two methods of the QPushButton: the mouseMoveEvent() and the mousePressEvent().\n",
    "# The mouseMoveEvent() method is the place where the drag and drop operation begins.\n",
    "# The QDrag object is created (QDrag(self)). The class provides support for MIME-based drag and drop data transfer.\n",
    "# The exec_() method of the drag object starts the drag and drop operation.\n",
    "# We print 'press' to the console if we left click on the button with the mouse.\n",
    "# Notice that we call mousePressEvent() method on the parent as well.\n",
    "# Otherwise, we would not see the button being pressed.\n",
    "# In the dropEvent() method we specify what happens after we release the mouse button and finish the drop operation.\n",
    "# In our case we find out the current mouse pointer position and move the button accordingly.\n",
    "# We specify the type of the drop action with setDropAction(). In our case it is a move action."
   ]
  }
 ],
 "metadata": {
  "kernelspec": {
   "display_name": "Python 3",
   "language": "python",
   "name": "python3"
  },
  "language_info": {
   "codemirror_mode": {
    "name": "ipython",
    "version": 3
   },
   "file_extension": ".py",
   "mimetype": "text/x-python",
   "name": "python",
   "nbconvert_exporter": "python",
   "pygments_lexer": "ipython3",
   "version": "3.8.5"
  }
 },
 "nbformat": 4,
 "nbformat_minor": 4
}
