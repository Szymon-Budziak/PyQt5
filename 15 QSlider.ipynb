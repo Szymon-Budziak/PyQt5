{
 "cells": [
  {
   "cell_type": "code",
   "execution_count": 1,
   "metadata": {},
   "outputs": [],
   "source": [
    "# QSlider is a widget for controllling a bounded value. Whe slider can be horizontal or\n",
    "# vertical. The user chooses the value by moving a handle.\n",
    "# The range of the possible values is specified with setMinimum, setMaximum or setRange.\n",
    "# Oprionally, it is possible to display tickmarks.\n",
    "# The valueChanged signal is emitted when the slider's value has changed."
   ]
  },
  {
   "cell_type": "markdown",
   "metadata": {},
   "source": [
    "## QSlider horizontal example"
   ]
  },
  {
   "cell_type": "code",
   "execution_count": 2,
   "metadata": {},
   "outputs": [],
   "source": [
    "import sys\n",
    "from PyQt5.QtWidgets import QWidget, QApplication, QSlider, QLabel, QHBoxLayout\n",
    "from PyQt5.QtCore import Qt\n",
    "from PyQt5.QtGui import QPixmap"
   ]
  },
  {
   "cell_type": "code",
   "execution_count": null,
   "metadata": {},
   "outputs": [],
   "source": [
    "class Example(QWidget):\n",
    "    def __init__(self):\n",
    "        super().__init__()\n",
    "        self.initUI()\n",
    "    \n",
    "    def initUI(self):\n",
    "        hbox = QHBoxLayout()\n",
    "        \n",
    "        sld = QSlider(Qt.Horizontal, self)\n",
    "        sld.setRange(0, 100)\n",
    "        sld.setFocusPolicy(Qt.NoFocus)\n",
    "        sld.setPageStep(5)\n",
    "        sld.valueChanged.connect(self.updateLabel)\n",
    "        \n",
    "        self.label = QLabel('0', self)\n",
    "        self.label.setAlignment(Qt.AlignCenter | Qt.AlignVCenter)\n",
    "        self.label.setMinimumWidth(80)\n",
    "        \n",
    "        hbox.addWidget(sld)\n",
    "        hbox.addSpacing(15)\n",
    "        hbox.addWidget(self.label)\n",
    "        \n",
    "        self.setLayout(hbox)\n",
    "        \n",
    "        self.setGeometry(300, 300, 350, 250)\n",
    "        self.setWindowTitle('QSlider')\n",
    "        self.show()\n",
    "        \n",
    "    def updateLabel(self, value):\n",
    "        self.label.setText(str(value))\n",
    "        \n",
    "        \n",
    "def main():\n",
    "    app = QApplication(sys.argv)\n",
    "    ex = Example()\n",
    "    sys.exit(app.exec_())\n",
    "    \n",
    "if __name__ == '__main__':\n",
    "    main()\n",
    "# In this example by moving the slider's handle, we change the value displayed in the\n",
    "# adjecant label.\n",
    "# A horizontal slider is created by QSlider(Qt.Horizontal, self). Its range of values is\n",
    "# set with setRange.\n",
    "# The page step is larger step which is performed with PageUp or PageDown or by clicking\n",
    "# on a slider outside of the handle.\n",
    "# We connect the self.updateLabel handler to the valueChanged signal.\n",
    "# We set a minimum size for the label to prevent the slider from resizing when the label is redrawn.\n",
    "# In the updateLabel handler, we update the text of the label to the newly chosen QSlider value."
   ]
  },
  {
   "cell_type": "markdown",
   "metadata": {},
   "source": [
    "## Vertical QSlider"
   ]
  },
  {
   "cell_type": "code",
   "execution_count": null,
   "metadata": {},
   "outputs": [],
   "source": [
    "import sys\n",
    "from PyQt5.QtWidgets import QWidget, QApplication, QLabel, QSlider, QHBoxLayout\n",
    "from PyQt5.QtCore import Qt\n",
    "from PyQt5.QtGui import QPixmap"
   ]
  },
  {
   "cell_type": "code",
   "execution_count": null,
   "metadata": {},
   "outputs": [],
   "source": [
    "class Example2(QWidget):\n",
    "    def __init__(self):\n",
    "        super().__init__()\n",
    "        self.initUI()\n",
    "        \n",
    "    def initUI(self):\n",
    "        hbox = QHBoxLayout()\n",
    "        \n",
    "        sld = QSlider(Qt.Vertical, self)\n",
    "        sld.setFocusPolicy(Qt.NoFocus)\n",
    "        sld.setRange(0, 100)\n",
    "        sld.setPageStep(5)\n",
    "        sld.valueChanged.connect(self.changeValue)\n",
    "        \n",
    "        self.label = QLabel('0', self)\n",
    "        self.label.setStyleSheet('QLabel {background: #007AA5; border-radius: 3px;}')\n",
    "        self.label.setAlignment(Qt.AlignCenter | Qt.AlignVCenter)\n",
    "        self.label.setMinimumWidth(80)\n",
    "        \n",
    "        hbox.addStretch()\n",
    "        hbox.addWidget(sld)\n",
    "        hbox.addSpacing(15)\n",
    "        hbox.addWidget(self.label)\n",
    "        hbox.addStretch()\n",
    "        \n",
    "        self.setLayout(hbox)\n",
    "        \n",
    "        self.setGeometry(300, 300, 350, 250)\n",
    "        self.setWindowTitle('QSlider')\n",
    "        self.show()\n",
    "        \n",
    "    def changeValue(self, value):\n",
    "        self.label.setText(str(value))\n",
    "        \n",
    "        \n",
    "def main():\n",
    "    app = QApplication(sys.argv)\n",
    "    ex = Example2()\n",
    "    sys.exit(app.exec_())\n",
    "    \n",
    "if __name__ == '__main__':\n",
    "    main()\n",
    "# To create a vertival slider, we pass the Qt.Vertical to the QSlider constructor.\n",
    "# We play with the label's stylesheet to create a nice looking rounded rectangle."
   ]
  },
  {
   "cell_type": "markdown",
   "metadata": {},
   "source": [
    "## QSlider volume control"
   ]
  },
  {
   "cell_type": "code",
   "execution_count": null,
   "metadata": {},
   "outputs": [],
   "source": [
    "import sys\n",
    "from PyQt5.QtWidgets import QWidget, QApplication, QLabel, QSlider, QHBoxLayout\n",
    "from PyQt5.QtCore import Qt\n",
    "from PyQt5.QtGui import QPixmap"
   ]
  },
  {
   "cell_type": "code",
   "execution_count": null,
   "metadata": {},
   "outputs": [],
   "source": [
    "class Example3(QWidget):\n",
    "    def __init__(self):\n",
    "        super().__init__()\n",
    "        self.initUI()\n",
    "        \n",
    "    def initUI(self):\n",
    "        hbox = QHBoxLayout()\n",
    "        \n",
    "        sld = QSlider(Qt.Horizontal, self)\n",
    "        sld.setFocusPolicy(Qt.NoFocus)\n",
    "        sld.valueChanged.connect(self.changeValue)\n",
    "        \n",
    "        self.label = QLabel(self)\n",
    "        self.label.setPixmap(QPixmap('mute.png'))\n",
    "        \n",
    "        hbox.addWidget(sld)\n",
    "        hbox.addSpacing(15)\n",
    "        hbox.addWidget(self.label)\n",
    "        \n",
    "        self.setLayout(hbox)\n",
    "        \n",
    "        self.move(300, 300)\n",
    "        self.setWindowTitle('Volume control')\n",
    "        self.show()\n",
    "        \n",
    "    def changeValue(self, value):\n",
    "        if value == 0:\n",
    "            self.label.setPixmap(QPixmap('mute.png'))\n",
    "        elif 0 < value <= 30:\n",
    "            self.label.setPixmap(QPixmap('min.png'))\n",
    "        elif 30 < value <= 80:\n",
    "            self.label.setPixmap(QPixmap('med.png'))\n",
    "        else:\n",
    "            self.label.setPixmap(QPixmap('max.png'))\n",
    "            \n",
    "            \n",
    "def main():\n",
    "    app = QApplication(sys.argv)\n",
    "    ex = Example3()\n",
    "    sys.exit(app.exec_())\n",
    "    \n",
    "if __name__ == '__main__':\n",
    "    main()\n",
    "# In this example we simulate a volume control. By dragging the handle of a slider, we\n",
    "# change and image on the label.\n",
    "# We create a QLabel widget and set an initial mute image to it.\n",
    "# We connect the valueChanged signal to the user defined changeValue() method.\n",
    "# Based on the value of the slider, we set an image to the label. In the above code, we\n",
    "# set the mute.png image to the label if the slider is equal to zero."
   ]
  }
 ],
 "metadata": {
  "kernelspec": {
   "display_name": "Python 3",
   "language": "python",
   "name": "python3"
  },
  "language_info": {
   "codemirror_mode": {
    "name": "ipython",
    "version": 3
   },
   "file_extension": ".py",
   "mimetype": "text/x-python",
   "name": "python",
   "nbconvert_exporter": "python",
   "pygments_lexer": "ipython3",
   "version": "3.8.5"
  }
 },
 "nbformat": 4,
 "nbformat_minor": 4
}
