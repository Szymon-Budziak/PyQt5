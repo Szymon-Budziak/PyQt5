{
 "cells": [
  {
   "cell_type": "code",
   "execution_count": 1,
   "metadata": {},
   "outputs": [],
   "source": [
    "# QListWidget provides an item-based list widget.\n",
    "# The addItem function adds a new iteam at the end of the list. With addItems function,\n",
    "# multiple items can be inseted. The number of items in the list is found with the count\n",
    "# function. The takeItem function removes an item from the list.\n",
    "# The current item in the list can be found with currentItem and changed with setCurrentItem."
   ]
  },
  {
   "cell_type": "markdown",
   "metadata": {},
   "source": [
    "## QListWidget simple example"
   ]
  },
  {
   "cell_type": "code",
   "execution_count": 2,
   "metadata": {},
   "outputs": [],
   "source": [
    "import sys\n",
    "from PyQt5.QtWidgets import QWidget, QApplication, QListWidget, QMessageBox, QVBoxLayout"
   ]
  },
  {
   "cell_type": "code",
   "execution_count": null,
   "metadata": {},
   "outputs": [],
   "source": [
    "class Example(QWidget):\n",
    "    def __init__(self):\n",
    "        super().__init__()\n",
    "        self.initUI()\n",
    "        \n",
    "    def initUI(self):\n",
    "        vbox = QVBoxLayout(self)\n",
    "        \n",
    "        listWidget = QListWidget()\n",
    "        listWidget.addItem('sparrow')\n",
    "        listWidget.addItem('robin')\n",
    "        listWidget.addItem('crow')\n",
    "        listWidget.addItem('raven')\n",
    "        listWidget.addItem('woodpecker')\n",
    "        listWidget.addItem('hummingbird')\n",
    "        listWidget.itemDoubleClicked.connect(self.onClicked)\n",
    "        \n",
    "        vbox.addWidget(listWidget)\n",
    "        self.setLayout(vbox)\n",
    "        \n",
    "        self.setGeometry(300, 300, 350, 250)\n",
    "        self.setWindowTitle('QListWidget')\n",
    "        self.show()\n",
    "        \n",
    "    def onClicked(self, item):\n",
    "        QMessageBox.information(self, 'Info', item.text())\n",
    "        \n",
    "        \n",
    "def main():\n",
    "    app = QApplication(sys.argv)\n",
    "    ex = Example()\n",
    "    sys.exit(app.exec_())\n",
    "    \n",
    "if __name__ == '__main__':\n",
    "    main()\n",
    "# In this example we create a QListWidget which has names of birds as its items.\n",
    "# By double-clicking an item, the current bird name is shown in a message box.\n",
    "# A QListWidget is created by QListWidget(self).\n",
    "# New items are inserted with addItem function.\n",
    "# WQe connect the onClicked function to the itemDoubleClicked signal.\n",
    "# The handler function receives the double-clicked item from which we fet the text with the\n",
    "# function. The text is displayed in a message box with QMessageBox.information."
   ]
  },
  {
   "cell_type": "markdown",
   "metadata": {},
   "source": [
    "## QListWidget clear/ count"
   ]
  },
  {
   "cell_type": "code",
   "execution_count": null,
   "metadata": {},
   "outputs": [],
   "source": [
    "# The clear function removes all items from the list and the count function counts all items."
   ]
  },
  {
   "cell_type": "code",
   "execution_count": null,
   "metadata": {},
   "outputs": [],
   "source": [
    "import sys\n",
    "from PyQt5.QtWidgets import (QWidget, QApplication, QListWidget, QVBoxLayout,\n",
    "                             QPushButton, QHBoxLayout, QMessageBox)"
   ]
  },
  {
   "cell_type": "code",
   "execution_count": null,
   "metadata": {},
   "outputs": [],
   "source": [
    "class Example2(QWidget):\n",
    "    def __init__(self):\n",
    "        super().__init__()\n",
    "        self.initUI()\n",
    "        \n",
    "    def initUI(self):\n",
    "        vbox = QVBoxLayout()\n",
    "        hbox = QHBoxLayout()\n",
    "        \n",
    "        self.listWidget = QListWidget(self)\n",
    "        self.listWidget.addItems(['sparrow', 'robin', 'crow', 'raven',\n",
    "                                  'woopecker', 'hummingbird'])\n",
    "        clearBtn = QPushButton('Clear', self)\n",
    "        clearBtn.clicked.connect(self.onClearClicked)\n",
    "        \n",
    "        countBtn = QPushButton('Count', self)\n",
    "        countBtn.clicked.connect(self.onCountClicked)\n",
    "        \n",
    "        vbox.addWidget(self.listWidget)\n",
    "        hbox.addWidget(clearBtn)\n",
    "        hbox.addWidget(countBtn)\n",
    "        vbox.addLayout(hbox)\n",
    "        self.setLayout(vbox)\n",
    "        \n",
    "        self.setGeometry(300, 300, 350, 250)\n",
    "        self.setWindowTitle('QListWidget')\n",
    "        self.show()\n",
    "        \n",
    "    def onClearClicked(self):\n",
    "        self.listWidget.clear()\n",
    "        \n",
    "    def onCountClicked(self):\n",
    "        QMessageBox.information(self, 'Info', f'# of birds {self.listWidget.count()}')\n",
    "        \n",
    "        \n",
    "def main():\n",
    "    app = QApplication(sys.argv)\n",
    "    ex = Example2()\n",
    "    sys.exit(app.exec_())\n",
    "    \n",
    "if __name__ == '__main__':\n",
    "    main()\n",
    "# In this example we have two push buttons. The first clears all items and the second counts\n",
    "# all items and shows the number in a message box.\n",
    "# In the onClearClicked handler, we remove all items with clear.\n",
    "# In the onCountClicked handler, we count the number of items with count and display the\n",
    "# message in a message box."
   ]
  },
  {
   "cell_type": "markdown",
   "metadata": {},
   "source": [
    "## QListWidget sort items"
   ]
  },
  {
   "cell_type": "code",
   "execution_count": null,
   "metadata": {},
   "outputs": [],
   "source": [
    "# The sortItems function sorts items in the QListWidget."
   ]
  },
  {
   "cell_type": "code",
   "execution_count": null,
   "metadata": {},
   "outputs": [],
   "source": [
    "import sys\n",
    "from PyQt5.QtWidgets import (QWidget, QApplication, QVBoxLayout, QHBoxLayout, \n",
    "                             QPushButton, QListWidget, QCheckBox)\n",
    "from PyQt5.QtCore import Qt"
   ]
  },
  {
   "cell_type": "code",
   "execution_count": null,
   "metadata": {},
   "outputs": [],
   "source": [
    "class Example3(QWidget):\n",
    "    def __init__(self):\n",
    "        super().__init__()\n",
    "        self.initUI()\n",
    "        \n",
    "    def initUI(self):\n",
    "        vbox = QVBoxLayout(self)\n",
    "        hbox = QHBoxLayout()\n",
    "        \n",
    "        self.listWidget = QListWidget(self)\n",
    "        self.listWidget.addItems(['sparrow', 'robin', 'crow', 'raven', 'woopecker',\n",
    "                                  'hummingbird'])\n",
    "        self.sortOrdered = QCheckBox('Ascending', self)\n",
    "        \n",
    "        sortBtn = QPushButton('Sort', self)\n",
    "        sortBtn.clicked.connect(self.onSorted)\n",
    "        \n",
    "        vbox.addWidget(self.listWidget)\n",
    "        hbox.addWidget(self.sortOrdered)\n",
    "        hbox.addWidget(sortBtn)\n",
    "        vbox.addLayout(hbox)\n",
    "        \n",
    "        self.setLayout(vbox)\n",
    "        \n",
    "        self.setGeometry(300, 300, 350, 250)\n",
    "        self.setWindowTitle('Sorting items')\n",
    "        self.show()\n",
    "        \n",
    "    def onSorted(self):\n",
    "        if self.sortOrdered.isChecked():\n",
    "            order = Qt.AscendingOrder\n",
    "        else:\n",
    "            order = Qt.DescendingOrder\n",
    "        self.listWidget.sortItems(order)\n",
    "        \n",
    "        \n",
    "def main():\n",
    "    app = QApplication(sys.argv)\n",
    "    ex = Example3()\n",
    "    sys.exit(app.exec_())\n",
    "    \n",
    "if __name__ == '__main__':\n",
    "    main()\n",
    "# In this example we have a sort push button. The sorting order is selected with QCheckBox widget.\n",
    "# We determine the state of the QCheckBox with isChecked and choose the sorting order;\n",
    "# either Qt.AscendingOrder or Qt.DescendingOrder. Then we pass the order to the sortItems function."
   ]
  }
 ],
 "metadata": {
  "kernelspec": {
   "display_name": "Python 3",
   "language": "python",
   "name": "python3"
  },
  "language_info": {
   "codemirror_mode": {
    "name": "ipython",
    "version": 3
   },
   "file_extension": ".py",
   "mimetype": "text/x-python",
   "name": "python",
   "nbconvert_exporter": "python",
   "pygments_lexer": "ipython3",
   "version": "3.8.5"
  }
 },
 "nbformat": 4,
 "nbformat_minor": 4
}
