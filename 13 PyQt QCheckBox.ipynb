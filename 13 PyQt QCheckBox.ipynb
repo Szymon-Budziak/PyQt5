{
 "cells": [
  {
   "cell_type": "code",
   "execution_count": 1,
   "metadata": {},
   "outputs": [],
   "source": [
    "# QCheckBox is a widget that has two states: on and off. It is a box with a label.\n",
    "# Checkboxes are typically used to represent features in an application that can be enabled\n",
    "# or disabled.\n",
    "# To create exclusive check boxes, we can use the QButtonGroup. With setTristate function,\n",
    "# we can change the QCheckBox box to have three states. This can be used in situations\n",
    "# where we want to have an additional neutral option.\n",
    "# The stateChanged signal is emitted whenever a checkbox is checked or cleared."
   ]
  },
  {
   "cell_type": "markdown",
   "metadata": {},
   "source": [
    "## QCheckBox example"
   ]
  },
  {
   "cell_type": "code",
   "execution_count": 2,
   "metadata": {},
   "outputs": [],
   "source": [
    "import sys\n",
    "from PyQt5.QtWidgets import QWidget, QApplication, QCheckBox, QHBoxLayout\n",
    "from PyQt5.QtCore import Qt"
   ]
  },
  {
   "cell_type": "code",
   "execution_count": null,
   "metadata": {},
   "outputs": [],
   "source": [
    "class Example(QWidget):\n",
    "    def __init__(self):\n",
    "        super().__init__()\n",
    "        self.initUI()\n",
    "        \n",
    "    def initUI(self):\n",
    "        hbox = QHBoxLayout()\n",
    "        \n",
    "        cb = QCheckBox('Show title', self)\n",
    "        cb.toggle()\n",
    "        cb.stateChanged.connect(self.changeTitle)\n",
    "        hbox.addWidget(cb)\n",
    "        \n",
    "        self.setLayout(hbox)\n",
    "        \n",
    "        self.setGeometry(300, 300, 350, 250)\n",
    "        self.setWindowTitle('QCheckBox')\n",
    "        self.show()\n",
    "        \n",
    "    def changeTitle(self, state):\n",
    "        if state == Qt.Checked:\n",
    "            self.setWindowTitle('QCheckBox')\n",
    "        else:\n",
    "            self.setWindowTitle(' ')\n",
    "            \n",
    "            \n",
    "def main():\n",
    "    app = QApplication(sys.argv)\n",
    "    ex = Example()\n",
    "    sys.exit(app.exec_())\n",
    "    \n",
    "if __name__ == '__main__':\n",
    "    main()\n",
    "# In this example we create a checkbox that toggles the window title.\n",
    "# A QCheckBox constructor is QCheckBox(...)\n",
    "# We connect the user defined changeTitle function to the stateChanged signal.\n",
    "# The changeTitle function toggles the window title.\n",
    "# The state of the widget is passed to changeTitle function in the state variable. If the\n",
    "# widget is checked we set a title of the window. Otherwise, we set an empty string to \n",
    "# the titlebar."
   ]
  },
  {
   "cell_type": "markdown",
   "metadata": {},
   "source": [
    "## Three-state QCheckBox"
   ]
  },
  {
   "cell_type": "code",
   "execution_count": null,
   "metadata": {},
   "outputs": [],
   "source": [
    "import sys\n",
    "from PyQt5.QtWidgets import QWidget, QApplication, QLabel, QCheckBox, QHBoxLayout\n",
    "from PyQt5.QtCore import Qt"
   ]
  },
  {
   "cell_type": "code",
   "execution_count": null,
   "metadata": {},
   "outputs": [],
   "source": [
    "class Example2(QWidget):\n",
    "    def __init__(self):\n",
    "        super().__init__()\n",
    "        self.initUI()\n",
    "        \n",
    "    def initUI(self):\n",
    "        hbox = QHBoxLayout()\n",
    "        \n",
    "        checkBox = QCheckBox('Increase  taxes', self)\n",
    "        checkBox.setTristate(True)\n",
    "        hbox.addWidget(checkBox)\n",
    "        \n",
    "        checkBox.stateChanged.connect(self.changeTitle)\n",
    "        \n",
    "        self.label = QLabel('Negative viewpoint')\n",
    "        hbox.addSpacing(20)\n",
    "        hbox.addWidget(self.label)\n",
    "        \n",
    "        self.setLayout(hbox)\n",
    "        \n",
    "        self.move(300, 300)\n",
    "        self.setWindowTitle('QChekBox')\n",
    "        self.show()\n",
    "        \n",
    "    def changeTitle(self, state):\n",
    "        if state == Qt.Checked:\n",
    "            self.label.setText('Positive viewpoint')\n",
    "        elif state == Qt.Unchecked:\n",
    "            self.label.setText('Negative viewpoint')\n",
    "        else:\n",
    "            self.label.setText('Neutral viewpoint')\n",
    "            \n",
    "            \n",
    "def main():\n",
    "    app = QApplication(sys.argv)\n",
    "    ex = Example2()\n",
    "    sys.exit(app.exec_())\n",
    "    \n",
    "if __name__ == '__main__':\n",
    "    main()\n",
    "# We have a QCheckBox with 'Increase taxes' label. By clicking on the checkbox, we can show\n",
    "# a positive, negative or neutral viewpoint.\n",
    "# We create QCheckBox and make it have three states with setTristate."
   ]
  },
  {
   "cell_type": "markdown",
   "metadata": {},
   "source": [
    "## Exclusive QCheckBox"
   ]
  },
  {
   "cell_type": "code",
   "execution_count": null,
   "metadata": {},
   "outputs": [],
   "source": [
    "import sys\n",
    "from PyQt5.QtWidgets import (QWidget, QApplication, QLabel, QHBoxLayout,\n",
    "                             QCheckBox, QVBoxLayout, QButtonGroup)\n",
    "from PyQt5.QtCore import Qt"
   ]
  },
  {
   "cell_type": "code",
   "execution_count": null,
   "metadata": {},
   "outputs": [],
   "source": [
    "class Example3(QWidget):\n",
    "    def __init__(self):\n",
    "        super().__init__()\n",
    "        self.initUI()\n",
    "    \n",
    "    def initUI(self):\n",
    "        vbox = QVBoxLayout()\n",
    "        hbox = QHBoxLayout()\n",
    "        \n",
    "        checkBox1 = QCheckBox('Small', self)\n",
    "        checkBox2 = QCheckBox('Medium', self)\n",
    "        checkBox3 = QCheckBox('Large', self)\n",
    "        \n",
    "        group = QButtonGroup(self)\n",
    "        group.addButton(checkBox1)\n",
    "        group.addButton(checkBox2)\n",
    "        group.addButton(checkBox3)\n",
    "        \n",
    "        hbox.addWidget(checkBox1)\n",
    "        hbox.addWidget(checkBox2)\n",
    "        hbox.addWidget(checkBox3)\n",
    "        \n",
    "        group.buttonClicked.connect(self.changeText)\n",
    "        \n",
    "        self.label = QLabel('...', self)\n",
    "        \n",
    "        vbox.addLayout(hbox)\n",
    "        vbox.addSpacing(30)\n",
    "        vbox.addWidget(self.label)\n",
    "        \n",
    "        self.setLayout(vbox)\n",
    "        \n",
    "        self.move(300, 300)\n",
    "        self.setWindowTitle('QCheckBox')\n",
    "        self.show()\n",
    "        \n",
    "    def changeText(self, btn):\n",
    "        self.label.setText(btn.text())\n",
    "        \n",
    "        \n",
    "def main():\n",
    "    app = QApplication(sys.argv)\n",
    "    ex = Example3()\n",
    "    sys.exit(app.exec_())\n",
    "    \n",
    "if __name__ == '__main__':\n",
    "    main()\n",
    "# In this example we have three checkboxes representing small, medium and large sizes.\n",
    "# We place the three checkboxes into the QButtonGroup with addButton.\n",
    "# We react to the buttonClicked signal by group.buttonClicked.connect(...)\n",
    "# Upon clicking on any of the checkboxes, we get its text and update the label."
   ]
  }
 ],
 "metadata": {
  "kernelspec": {
   "display_name": "Python 3",
   "language": "python",
   "name": "python3"
  },
  "language_info": {
   "codemirror_mode": {
    "name": "ipython",
    "version": 3
   },
   "file_extension": ".py",
   "mimetype": "text/x-python",
   "name": "python",
   "nbconvert_exporter": "python",
   "pygments_lexer": "ipython3",
   "version": "3.8.5"
  }
 },
 "nbformat": 4,
 "nbformat_minor": 4
}
