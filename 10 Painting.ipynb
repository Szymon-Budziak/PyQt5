{
 "cells": [
  {
   "cell_type": "code",
   "execution_count": 1,
   "metadata": {},
   "outputs": [],
   "source": [
    "# PyQt5 painting system is able to render vector graphics, images and outline font-based text.\n",
    "# Painting is needed in applications when we want to change or enhance and existing widget,\n",
    "#    or if we are creating a custom widget from scratch.\n",
    "# To the drawing we use the painting API provided by the PyQt5 toolkit."
   ]
  },
  {
   "cell_type": "markdown",
   "metadata": {},
   "source": [
    "## QPainter"
   ]
  },
  {
   "cell_type": "code",
   "execution_count": 2,
   "metadata": {},
   "outputs": [],
   "source": [
    "# QPainter performs low-level painting on widgets and other paint devices.\n",
    "# It can draw everything from simple lines to complex shapes."
   ]
  },
  {
   "cell_type": "markdown",
   "metadata": {},
   "source": [
    "## The paintEvent method"
   ]
  },
  {
   "cell_type": "code",
   "execution_count": 3,
   "metadata": {},
   "outputs": [],
   "source": [
    "# The painting is done within the paintEvent method. Rhe painting code is placed between the\n",
    "# begin and end methods of the QPainter object. It performs low-level painting on widgets and\n",
    "# other paint devices."
   ]
  },
  {
   "cell_type": "markdown",
   "metadata": {},
   "source": [
    "## PyQt5 draw text"
   ]
  },
  {
   "cell_type": "code",
   "execution_count": 4,
   "metadata": {},
   "outputs": [],
   "source": [
    "# In this example we draw some Unicode text on the client area of window."
   ]
  },
  {
   "cell_type": "code",
   "execution_count": 5,
   "metadata": {},
   "outputs": [],
   "source": [
    "import sys\n",
    "from PyQt5.QtWidgets import QWidget, QApplication\n",
    "from PyQt5.QtGui import QPainter, QColor, QFont\n",
    "from PyQt5.QtCore import Qt"
   ]
  },
  {
   "cell_type": "code",
   "execution_count": null,
   "metadata": {},
   "outputs": [],
   "source": [
    "class Example(QWidget):\n",
    "    def __init__(self):\n",
    "        super().__init__()\n",
    "        self.initUI()\n",
    "        \n",
    "    def initUI(self):\n",
    "        self.text = \"Witam wszystkich serdecznie\"\n",
    "        self.setGeometry(300, 300, 350, 300)\n",
    "        self.setWindowTitle('Drawing text')\n",
    "        self.show()\n",
    "        \n",
    "    def paintEvent(self, event):\n",
    "        qp = QPainter()\n",
    "        qp.begin(self)\n",
    "        self.drawText(event, qp)\n",
    "        qp.end()\n",
    "        \n",
    "    def drawText(self, event, qp):\n",
    "        qp.setPen(QColor(168, 34, 3))\n",
    "        qp.setFont(QFont('Decorative', 10))\n",
    "        qp.drawText(event.rect(), Qt.AlignCenter, self.text)\n",
    "        \n",
    "        \n",
    "def main():\n",
    "    app = QApplication(sys.argv)\n",
    "    ex = Example()\n",
    "    sys.exit(app.exec_())\n",
    "    \n",
    "if __name__ == '__main__':\n",
    "    main()\n",
    "# In this example we draw some text in Polish. The text is vertivcally and horizontally aligned.\n",
    "# Drawing is done within the paint event (paintEvent(self, event)).\n",
    "# The QPainter class is responsible for all the low-level painting.\n",
    "# All the painting methods go between begin and end methods.\n",
    "# The actual painting is delegated to the drawText method.\n",
    "# The draw text method draws text on the window.\n",
    "# The rect method of the paint event returns the rectangle that needs to be updated.\n",
    "# With the Qt.AlignCenter we align the text in both dimensions."
   ]
  },
  {
   "cell_type": "markdown",
   "metadata": {},
   "source": [
    "## PyQt5 draw points"
   ]
  },
  {
   "cell_type": "code",
   "execution_count": null,
   "metadata": {},
   "outputs": [],
   "source": [
    "# A point is the most simple graphics object that can be drawn. It is a small spot on the window."
   ]
  },
  {
   "cell_type": "code",
   "execution_count": null,
   "metadata": {},
   "outputs": [],
   "source": [
    "import sys, random\n",
    "from PyQt5.QtWidgets import QWidget, QApplication\n",
    "from PyQt5.QtGui import QPainter\n",
    "from PyQt5.QtCore import Qt"
   ]
  },
  {
   "cell_type": "code",
   "execution_count": null,
   "metadata": {},
   "outputs": [],
   "source": [
    "class Example2(QWidget):\n",
    "    def __init__(self):\n",
    "        super().__init__()\n",
    "        self.initUI()\n",
    "        \n",
    "    def initUI(self):\n",
    "        self.setGeometry(300, 300, 300, 190)\n",
    "        self.setWindowTitle('Points')\n",
    "        self.show()\n",
    "    \n",
    "    def paintEvent(self, e):\n",
    "        qp = QPainter()\n",
    "        qp.begin(self)\n",
    "        self.drawPoints(qp)\n",
    "        qp.end()\n",
    "        \n",
    "    def drawPoints(self, qp):\n",
    "        qp.setPen(Qt.red)\n",
    "        size = self.size()\n",
    "        \n",
    "        if size.height() <= 1 or size.height() <= 1:\n",
    "            return\n",
    "        \n",
    "        for i in range(1000):\n",
    "            x = random.randint(1, size.width() -1)\n",
    "            y = random.randint(1, size.height() -1)\n",
    "            qp.drawPoint(x, y)\n",
    "            \n",
    "            \n",
    "def main():\n",
    "    app = QApplication(sys.argv)\n",
    "    ex = Example2()\n",
    "    sys.exit(app.exec_())\n",
    "    \n",
    "if __name__ == '__main__':\n",
    "    main()\n",
    "# In this example we draw randomly 100 red points on the client area of the window.\n",
    "# We set the pen to red colour (qp.setPen(Qt.red)). We use a predefined Qt.red colour constant.\n",
    "# Each time we resize the window a paint event is generated.\n",
    "# We get the current size of the window with the size() method.\n",
    "# We use the size of the window to distribute the points all over the client area of the window.\n",
    "# We draw the point with the drawPoint() method."
   ]
  },
  {
   "cell_type": "markdown",
   "metadata": {},
   "source": [
    "## PyQt5 colours"
   ]
  },
  {
   "cell_type": "code",
   "execution_count": null,
   "metadata": {},
   "outputs": [],
   "source": [
    "# A colour is an object representing a combination of Red, Green and Blue (RGB) intensity values.\n",
    "# Valid RGB values are in the range from 0 to 255.\n",
    "# We can define a colour in various ways.\n",
    "# The most common are RGB ddecimal values or hexadecimal values.\n",
    "# We can also use and RGBA value which stands for Red, Green, Blue and Alpha.\n",
    "# Here we add some extra information regarding transparency.\n",
    "# Alpha value of 255 defines full opacity, 0 is for full transparency, e.g. the colour is invisible."
   ]
  },
  {
   "cell_type": "code",
   "execution_count": null,
   "metadata": {},
   "outputs": [],
   "source": [
    "import sys\n",
    "from PyQt5.QtWidgets import QWidget, QApplication\n",
    "from PyQt5.QtGui import QPainter, QColor, QBrush"
   ]
  },
  {
   "cell_type": "code",
   "execution_count": null,
   "metadata": {},
   "outputs": [],
   "source": [
    "class Example3(QWidget):\n",
    "    def __init__(self):\n",
    "        super().__init__()\n",
    "        self.initUI()\n",
    "        \n",
    "    def initUI(self):\n",
    "        self.setGeometry(300, 300, 350, 100)\n",
    "        self.setWindowTitle('Colours')\n",
    "        self.show()\n",
    "        \n",
    "    def paintEvent(self, e):\n",
    "        qp = QPainter()\n",
    "        qp.begin(self)\n",
    "        self.drawRectangles(qp)\n",
    "        qp.end()\n",
    "        \n",
    "    def drawRectangles(self, qp):\n",
    "        col = QColor(0, 0, 0)\n",
    "        col.setNamedColor('#d4d4d4')\n",
    "        qp.setPen(col)\n",
    "        \n",
    "        qp.setBrush(QColor(100, 0, 0))\n",
    "        qp.drawRect(10, 15, 90, 60)\n",
    "        \n",
    "        qp.setBrush(QColor(155, 80, 0, 160))\n",
    "        qp.drawRect(130, 15, 90, 60)\n",
    "        \n",
    "        qp.setBrush(QColor(25, 0, 90, 200))\n",
    "        qp.drawRect(250, 15, 90, 60)\n",
    "        \n",
    "        \n",
    "def main():\n",
    "    app = QApplication(sys.argv)\n",
    "    ex = Example3()\n",
    "    sys.exit(app.exec_())\n",
    "    \n",
    "if __name__ == '__main__':\n",
    "    main()\n",
    "# In this example we draw three coloured rectangles.\n",
    "# We define a colour using a hexadecimal notation (color.setNamedColor('#d4d4d4')).\n",
    "# We define a brush and draw a rectangle.\n",
    "# A brush is an elementary graphics object which is used to draw the background of a shape.\n",
    "# The drawRect() method accepts four parameters. The first to are x and y values on the axis.\n",
    "# The third and fourth parameters are the iwdth and height of the rectangle.\n",
    "# The method draws the rectangle using the current pen and brush."
   ]
  },
  {
   "cell_type": "markdown",
   "metadata": {},
   "source": [
    "## PyQt5 QPen"
   ]
  },
  {
   "cell_type": "code",
   "execution_count": null,
   "metadata": {},
   "outputs": [],
   "source": [
    "# The QPen is an elementary graphics object. It is used to draw lines, curves and outlines of\n",
    "# rectangles, ellipses, polygons or other shapes."
   ]
  },
  {
   "cell_type": "code",
   "execution_count": null,
   "metadata": {},
   "outputs": [],
   "source": [
    "import sys\n",
    "from PyQt5.QtWidgets import QWidget, QApplication\n",
    "from PyQt5.QtCore import Qt\n",
    "from PyQt5.QtGui import QPainter, QPen"
   ]
  },
  {
   "cell_type": "code",
   "execution_count": null,
   "metadata": {},
   "outputs": [],
   "source": [
    "class Example4(QWidget):\n",
    "    def __init__(self):\n",
    "        super().__init__()\n",
    "        self.initUI()\n",
    "        \n",
    "    def initUI(self):\n",
    "        self.setGeometry(300, 300, 280, 270)\n",
    "        self.setWindowTitle('Pen styles')\n",
    "        self.show()\n",
    "        \n",
    "    def paintEvent(self, e):\n",
    "        qp = QPainter()\n",
    "        qp.begin(self)\n",
    "        self.drawLines(qp)\n",
    "        qp.end()\n",
    "        \n",
    "    def drawLines(self, qp):\n",
    "        pen = QPen(Qt.black, 2, Qt.SolidLine)\n",
    "        qp.setPen(pen)\n",
    "        qp.drawLine(20, 40, 250, 40)\n",
    "        \n",
    "        pen.setStyle(Qt.DashLine)\n",
    "        qp.setPen(pen)\n",
    "        qp.drawLine(20, 80, 250, 80)\n",
    "        \n",
    "        pen.setStyle(Qt.DashDotLine)\n",
    "        qp.setPen(pen)\n",
    "        qp.drawLine(20, 120, 250, 120)\n",
    "        \n",
    "        pen.setStyle(Qt.DotLine)\n",
    "        qp.setPen(pen)\n",
    "        qp.drawLine(20, 160, 250, 160)\n",
    "        \n",
    "        pen.setStyle(Qt.DashDotDotLine)\n",
    "        qp.setPen(pen)\n",
    "        qp.drawLine(20, 200, 250, 200)\n",
    "        \n",
    "        pen.setStyle(Qt.CustomDashLine)\n",
    "        pen.setDashPattern([1, 4, 5, 4])\n",
    "        qp.setPen(pen)\n",
    "        qp.drawLine(20, 240, 250, 240)\n",
    "        \n",
    "        \n",
    "def main():\n",
    "    app = QApplication(sys.argv)\n",
    "    ex = Example4()\n",
    "    sys.exit(app.exec_())\n",
    "    \n",
    "if __name__ == '__main__':\n",
    "    main()\n",
    "# In this example we draw six lines. The lines are drawn in six different pen styles.\n",
    "# There are five predefined pen styles.\n",
    "# We can create also custom pen styles. The last line is drawn using a custom pen style.\n",
    "# We create QPen object. The colour is black.\n",
    "# Qt.SolidLine is one of the predefined pen styles.\n",
    "# We define a custom pen style (pen.setStyle(...)).\n",
    "# We set a Qt.CustomDashLine pen style and call the setDashPattern method.\n",
    "# The list of numbers defines a style. There must be and even number of numbers.\n",
    "# Odd numbers define a dash, even numbers space.\n",
    "# The greater the number, the greater the space or the even numbers space."
   ]
  },
  {
   "cell_type": "markdown",
   "metadata": {},
   "source": [
    "## PyQt5 QBrush"
   ]
  },
  {
   "cell_type": "code",
   "execution_count": null,
   "metadata": {},
   "outputs": [],
   "source": [
    "import sys\n",
    "from PyQt5.QtWidgets import QWidget, QApplication\n",
    "from PyQt5.QtCore import Qt\n",
    "from PyQt5.QtGui import QPainter, QBrush"
   ]
  },
  {
   "cell_type": "code",
   "execution_count": null,
   "metadata": {},
   "outputs": [],
   "source": [
    "class Example5(QWidget):\n",
    "    def __init__(self):\n",
    "        super().__init__()\n",
    "        self.initUI()\n",
    "        \n",
    "    def initUI(self):\n",
    "        self.setGeometry(300, 300, 355, 280)\n",
    "        self.setWindowTitle('Brushes')\n",
    "        self.show()\n",
    "        \n",
    "    def paintEvent(self, e):\n",
    "        qp = QPainter()\n",
    "        qp.begin(self)\n",
    "        self.drawBrushes(qp)\n",
    "        qp.end()\n",
    "        \n",
    "    def drawBrushes(self, qp):\n",
    "        brush = QBrush(Qt.SolidPattern)\n",
    "        qp.setBrush(brush)\n",
    "        qp.drawRect(10, 15, 90, 60)\n",
    "        \n",
    "        brush.setStyle(Qt.Dense1Pattern)\n",
    "        qp.setBrush(brush)\n",
    "        qp.drawRect(130, 15, 90, 60)\n",
    "        \n",
    "        brush.setStyle(Qt.Dense2Pattern)\n",
    "        qp.setBrush(brush)\n",
    "        qp.drawRect(250, 15, 90, 60)\n",
    "        \n",
    "        brush.setStyle(Qt.DiagCrossPattern)\n",
    "        qp.setBrush(brush)\n",
    "        qp.drawRect(10, 105, 90, 60)\n",
    "        \n",
    "        brush.setStyle(Qt.Dense5Pattern)\n",
    "        qp.setBrush(brush)\n",
    "        qp.drawRect(130, 105, 90, 60)\n",
    "        \n",
    "        brush.setStyle(Qt.Dense6Pattern)\n",
    "        qp.setBrush(brush)\n",
    "        qp.drawRect(250, 105, 90, 60)\n",
    "        \n",
    "        brush.setStyle(Qt.HorPattern)\n",
    "        qp.setBrush(brush)\n",
    "        qp.drawRect(10, 195, 90, 60)\n",
    "        \n",
    "        brush.setStyle(Qt.VerPattern)\n",
    "        qp.setBrush(brush)\n",
    "        qp.drawRect(130, 195, 90, 60)\n",
    "        \n",
    "        brush.setStyle(Qt.BDiagPattern)\n",
    "        qp.setBrush(brush)\n",
    "        qp.drawRect(250, 195, 90, 60)\n",
    "        \n",
    "        \n",
    "def main():\n",
    "    app = QApplication(sys.argv)\n",
    "    ex = Example5()\n",
    "    sys.exit(app.exec_())\n",
    "    \n",
    "if __name__ == '__main__':\n",
    "    main()\n",
    "# In this example we draw nine different rectangles.\n",
    "# We define a brush object by brush = QBrush(...).\n",
    "# We set it to the painter object and draw the rectangle by calling the drawRect method."
   ]
  },
  {
   "cell_type": "markdown",
   "metadata": {},
   "source": [
    "## Bezier curve"
   ]
  },
  {
   "cell_type": "code",
   "execution_count": null,
   "metadata": {},
   "outputs": [],
   "source": [
    "# Bezier curve is a cubic line. Bezier curve in PyQt5 can be created with QPainterPath.\n",
    "# A painter path is an object composed of a number of graphical blocks such as rectangles,\n",
    "# ellipses, lines and curves."
   ]
  },
  {
   "cell_type": "code",
   "execution_count": null,
   "metadata": {},
   "outputs": [],
   "source": [
    "import sys\n",
    "from PyQt5.QtWidgets import QWidget, QApplication\n",
    "from PyQt5.QtGui import QPainter, QPainterPath"
   ]
  },
  {
   "cell_type": "code",
   "execution_count": null,
   "metadata": {},
   "outputs": [],
   "source": [
    "class Example6(QWidget):\n",
    "    def __init__(self):\n",
    "        super().__init__()\n",
    "        self.initUI()\n",
    "        \n",
    "    def initUI(self):\n",
    "        self.setGeometry(300, 300, 380, 250)\n",
    "        self.setWindowTitle('Bezier curve')\n",
    "        self.show()\n",
    "        \n",
    "    def paintEvent(self, e):\n",
    "        qp = QPainter()\n",
    "        qp.begin(self)\n",
    "        qp.setRenderHint(QPainter.Antialiasing)\n",
    "        self.drawBezierCurve(qp)\n",
    "        qp.end()\n",
    "        \n",
    "    def drawBezierCurve(self, qp):\n",
    "        path = QPainterPath()\n",
    "        path.moveTo(30, 30)\n",
    "        path.cubicTo(30, 30, 200, 350, 350, 30)\n",
    "        qp.drawPath(path)\n",
    "        \n",
    "        \n",
    "def main():\n",
    "    app = QApplication(sys.argv)\n",
    "    ex = Example6()\n",
    "    sys.exit(app.exec_())\n",
    "    \n",
    "if __name__ == '__main__':\n",
    "    main()\n",
    "# In this example we draw a Bezier curve.\n",
    "# We create a Bezier curve with QPainterPath path.\n",
    "# The curve is created with cubicTo() method, which takes three points: starting point,\n",
    "# control point and ending point.\n",
    "# The final path is drawn with drawPath() method."
   ]
  }
 ],
 "metadata": {
  "kernelspec": {
   "display_name": "Python 3",
   "language": "python",
   "name": "python3"
  },
  "language_info": {
   "codemirror_mode": {
    "name": "ipython",
    "version": 3
   },
   "file_extension": ".py",
   "mimetype": "text/x-python",
   "name": "python",
   "nbconvert_exporter": "python",
   "pygments_lexer": "ipython3",
   "version": "3.8.5"
  }
 },
 "nbformat": 4,
 "nbformat_minor": 4
}
