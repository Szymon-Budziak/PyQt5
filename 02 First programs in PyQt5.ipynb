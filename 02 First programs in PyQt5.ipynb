{
 "cells": [
  {
   "cell_type": "code",
   "execution_count": 1,
   "metadata": {},
   "outputs": [],
   "source": [
    "import sys\n",
    "from PyQt5.QtWidgets import QApplication, QWidget"
   ]
  },
  {
   "cell_type": "code",
   "execution_count": null,
   "metadata": {},
   "outputs": [],
   "source": [
    "# In this example we create a window in PyQt5.\n",
    "def main():\n",
    "    app = QApplication(sys.argv)\n",
    "    w = QWidget()\n",
    "    w.resize(250, 150)\n",
    "    w.move(300, 300)\n",
    "    w.setWindowTitle('Simple')\n",
    "    w.show()\n",
    "    \n",
    "    sys.exit(app.exec_())\n",
    "    \n",
    "if __name__ == '__main__':\n",
    "    main()\n",
    "# This code example shows a small window on the screen.\n",
    "# - First we provides necessary imports.\n",
    "# - Every PyQt5 application must create an application object. The sys.argv parameter is a list of arguments from commnad line.\n",
    "# - The QWidget widget is the base class of all user interface objects in PyQt5. We provide the default constructor for QWidget.\n",
    "# - The resize() method resizes the widget.\n",
    "# - The move() method moves the widget to a position on the screen (at x=300, y=300 cordinates in  our example).\n",
    "# - We set the title of the window with setWindowTitle().\n",
    "# - The show method displays the widget on the screen. A widget is first created in memory and later shown on the screen.\n",
    "# - Finally, we enter the mainloop of the apllication. The mainloop receives events from the window system and\n",
    "# sidpatches them to the application widgets. The mainloop ends if we call the exit() method or the main widget is destroyed.\n",
    "# The sys.exit() method ensures a clean exit. The environment will be informed how the application ended.\n",
    "# - The exec_() method has and underscore. It is because the exec is a Python keyword and thus, exec_() was used instead."
   ]
  },
  {
   "cell_type": "markdown",
   "metadata": {},
   "source": [
    "## An application icon"
   ]
  },
  {
   "cell_type": "code",
   "execution_count": null,
   "metadata": {},
   "outputs": [],
   "source": [
    "# The application icon is a small image which is usually displayed in the top left corner of the titlebar."
   ]
  },
  {
   "cell_type": "code",
   "execution_count": null,
   "metadata": {},
   "outputs": [],
   "source": [
    "import sys\n",
    "from PyQt5.QtWidgets import QApplication, QWidget\n",
    "from PyQt5.QtGui import QIcon"
   ]
  },
  {
   "cell_type": "code",
   "execution_count": null,
   "metadata": {
    "scrolled": true
   },
   "outputs": [],
   "source": [
    "class Example(QWidget):\n",
    "    def __init__(self):\n",
    "        super().__init__()\n",
    "        self.initUI()\n",
    "    \n",
    "    def initUI(self):\n",
    "        self.setGeometry(300, 300, 300, 220)\n",
    "        self.setWindowTitle('Icon')\n",
    "        self.setWindowIcon(QIcon('web.png'))\n",
    "        self.show()\n",
    "            \n",
    "def main():\n",
    "    app = QApplication(sys.argv)\n",
    "    ex = Example()\n",
    "    sys.exit(app.exec_())\n",
    "        \n",
    "if __name__ == '__main__':\n",
    "    main()\n",
    "# In this example we create a new class called Example. The Example class inherits from the QWidget class.\n",
    "# This means that we call two constructors: the first one for the Example class and the second one for the inherited class.\n",
    "# The super() method returns the parent object of the Example class and we call its constructor.\n",
    "# The __init__() method is a constructor method in Python language.\n",
    "# The creation of the GUI is delegated to the initUI() method.\n",
    "# setGeometry(), setWindowTitle() and setWindowIcon() all these three methods have been inherited from the QWidget class.\n",
    "# The setGeometry() locates the iwndow on the screen and sets it size. It combines the resize() adn move() methods in one method.\n",
    "# To have icon you must have it downloaded and renamed to 'web.png'."
   ]
  },
  {
   "cell_type": "markdown",
   "metadata": {},
   "source": [
    "## Showing a tooltip in PyQt5"
   ]
  },
  {
   "cell_type": "code",
   "execution_count": null,
   "metadata": {},
   "outputs": [],
   "source": [
    "import sys\n",
    "from PyQt5.QtWidgets import QWidget, QToolTip, QPushButton, QApplication\n",
    "from PyQt5.QtGui import QFont"
   ]
  },
  {
   "cell_type": "code",
   "execution_count": null,
   "metadata": {},
   "outputs": [],
   "source": [
    "class Example2(QWidget):\n",
    "    def __init__(self):\n",
    "        super().__init__()\n",
    "        self.initUI()\n",
    "\n",
    "    def initUI(self):\n",
    "        QToolTip.setFont(QFont('SansSerif', 10))\n",
    "        self.setToolTip('This is a <b>QWidget</b> widget')\n",
    "\n",
    "        btn = QPushButton('Button', self)\n",
    "        btn.setToolTip('This is a <b>QPushButton</b> widget')\n",
    "        btn.resize(btn.sizeHint())\n",
    "        btn.move(50, 50)\n",
    "\n",
    "        self.setGeometry(300, 300, 300, 200)\n",
    "        self.setWindowTitle('Tooltips')\n",
    "        self.show()\n",
    "\n",
    "\n",
    "def main():\n",
    "    app = QApplication(sys.argv)\n",
    "    ex = Example2()\n",
    "    sys.exit(app.exec_())\n",
    "\n",
    "\n",
    "if __name__ == '__main__':\n",
    "    main()\n",
    "# In this example, we show a tooltip for two PyQt5 widgets.\n",
    "# To create a tooltip, we call the setTooltip() method. We can use rich text formatting.\n",
    "# We create a push button widget and set a tooltip for it.\n",
    "# The button is being resized and moved on the window. The sizeHint() method gives a recommended size for the button."
   ]
  },
  {
   "cell_type": "markdown",
   "metadata": {},
   "source": [
    "## Closing a window"
   ]
  },
  {
   "cell_type": "code",
   "execution_count": null,
   "metadata": {},
   "outputs": [],
   "source": [
    "import sys\n",
    "from PyQt5.QtWidgets import QWidget, QPushButton, QApplication"
   ]
  },
  {
   "cell_type": "code",
   "execution_count": null,
   "metadata": {},
   "outputs": [],
   "source": [
    "class Example3(QWidget):\n",
    "    def __init__(self):\n",
    "        super().__init__()\n",
    "        self.initUI()\n",
    "        \n",
    "    def initUI(self):\n",
    "        qbtn = QPushButton('Quit', self)\n",
    "        qbtn.clicked.connect(QApplication.instance().quit)\n",
    "        qbtn.resize(qbtn.sizeHint())\n",
    "        qbtn.move(50, 50)\n",
    "        \n",
    "        self.setGeometry(300, 300, 300, 250)\n",
    "        self.setWindowTitle('Quit button')\n",
    "        self.show()\n",
    "        \n",
    "def main():\n",
    "    app = QApplication(sys.argv)\n",
    "    ex = Example3()\n",
    "    sys.exit(app.exec_())\n",
    "    \n",
    "if __name__ == '__main__':\n",
    "    main()\n",
    "# If you run this code in Jupyter Notebook, after clickign Quit Button you have to Restart Kernel.    \n",
    "# In this example we create a quit button. Upon clicking on the button, the application terminates.\n",
    "# The button is an instance of the QPushButton class. \n",
    "# The first parameter of the constructor is the label of the button. The second parameter is the parent widget.\n",
    "# The parent widget is the Example widget, which is a QWidget by inheritance."
   ]
  },
  {
   "cell_type": "markdown",
   "metadata": {},
   "source": [
    "## PyQt5 message box"
   ]
  },
  {
   "cell_type": "code",
   "execution_count": null,
   "metadata": {},
   "outputs": [],
   "source": [
    "import sys\n",
    "from PyQt5.QtWidgets import QWidget, QMessageBox, QApplication"
   ]
  },
  {
   "cell_type": "code",
   "execution_count": null,
   "metadata": {},
   "outputs": [],
   "source": [
    "class Example4 (QWidget):\n",
    "    def __init__(self):\n",
    "        super().__init__()\n",
    "        self.initUI()\n",
    "        \n",
    "    def initUI(self):\n",
    "        self.setGeometry(300, 300, 250, 150)\n",
    "        self.setWindowTitle('Message box')\n",
    "        self.show()\n",
    "        \n",
    "    def closeEvent(self, event):\n",
    "        reply = QMessageBox.question(self, 'Message', \n",
    "                                     \"Are you sure to quit?\", QMessageBox.Yes | \n",
    "                                     QMessageBox.No, QMessageBox.No)\n",
    "        if reply == QMessageBox.Yes:\n",
    "            event.accept()\n",
    "        else:\n",
    "            event.ignore()\n",
    "\n",
    "def main():\n",
    "    app = QApplication(sys.argv)\n",
    "    ex = Example4()\n",
    "    sys.exit(app.exec_())\n",
    "    \n",
    "if __name__ == '__main__':\n",
    "    main()\n",
    "# If we close a QWidget, the QCLoseEvent is generated. To modify the widget behaviour we need to reimpement the closeEvent() event handler.\n",
    "# The first string in message box appears on the titlebar.\n",
    "# The second string is the message text displayed by the dialog.\n",
    "# The third argument specifies the combination of buttons appearing in the dialog.\n",
    "# The last parameter is the default button. It is the button which has initially the keyboard focus."
   ]
  },
  {
   "cell_type": "markdown",
   "metadata": {},
   "source": [
    "## Centering window on the screen"
   ]
  },
  {
   "cell_type": "code",
   "execution_count": null,
   "metadata": {},
   "outputs": [],
   "source": [
    "import sys\n",
    "from PyQt5.QtWidgets import QWidget, QDesktopWidget, QApplication"
   ]
  },
  {
   "cell_type": "code",
   "execution_count": null,
   "metadata": {},
   "outputs": [],
   "source": [
    "# This example shows how we can center a window on the desktop screen.\n",
    "class Example5 (QWidget):\n",
    "    def __init__(self):\n",
    "        super().__init__()\n",
    "        self.initUI()\n",
    "    \n",
    "    def initUI(self):\n",
    "        self.resize(250, 150)\n",
    "        self.center()\n",
    "        self.setWindowTitle('Center')\n",
    "        self.show()\n",
    "        \n",
    "    def center(self):\n",
    "        qr = self.frameGeometry()\n",
    "        cp = QDesktopWidget().availableGeometry().center()\n",
    "        qr.moveCenter(cp)\n",
    "        self.move(qr.topLeft())\n",
    "        \n",
    "def main():\n",
    "    app = QApplication(sys.argv)\n",
    "    ex = Example5()\n",
    "    sys.exit(app.exec_())\n",
    "    \n",
    "if __name__ == '__main__':\n",
    "    main()\n",
    "# The QDesktopWidget class provides information about the user's desktop, including the screen size.\n",
    "# We get the rectangle specifying the geometry of the main window. This includes any window frame.\n",
    "# Our rectangle has already its width and height. Now we set the center of the rectangle to the center of the screen.\n",
    "# The rectangle's size is unchanged.\n",
    "# We move the top-left point of the application window to the top-left point of the qr rectangle, thus centering the window on our screen."
   ]
  }
 ],
 "metadata": {
  "kernelspec": {
   "display_name": "Python 3",
   "language": "python",
   "name": "python3"
  },
  "language_info": {
   "codemirror_mode": {
    "name": "ipython",
    "version": 3
   },
   "file_extension": ".py",
   "mimetype": "text/x-python",
   "name": "python",
   "nbconvert_exporter": "python",
   "pygments_lexer": "ipython3",
   "version": "3.8.5"
  }
 },
 "nbformat": 4,
 "nbformat_minor": 4
}
