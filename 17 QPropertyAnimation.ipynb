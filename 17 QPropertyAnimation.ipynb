{
 "cells": [
  {
   "cell_type": "code",
   "execution_count": 1,
   "metadata": {},
   "outputs": [],
   "source": [
    "# QPropertyAnimation interpolates over PyQt properties. A class declaring properties must\n",
    "# be a QObject."
   ]
  },
  {
   "cell_type": "markdown",
   "metadata": {},
   "source": [
    "## QPropertyAnimation methods"
   ]
  },
  {
   "cell_type": "code",
   "execution_count": 2,
   "metadata": {},
   "outputs": [],
   "source": [
    "# start() - starts animation\n",
    "# stop() - terminates animation\n",
    "# setStartValue() - sets the starting value of animation\n",
    "# setEndValue() - sets the ending value of animation\n",
    "# setDuration() - sets the duration of animation, in ms\n",
    "# setKeyValueAt() - creates a key frame at the given step with the given value\n",
    "# setLoopCount() - sets the number of repetitions of the animation"
   ]
  },
  {
   "cell_type": "markdown",
   "metadata": {},
   "source": [
    "## Animating size with QPropertyAnimation"
   ]
  },
  {
   "cell_type": "code",
   "execution_count": 3,
   "metadata": {},
   "outputs": [],
   "source": [
    "import sys\n",
    "from PyQt5.QtWidgets import QWidget, QApplication, QFrame, QPushButton\n",
    "from PyQt5.QtCore import QRect, QPropertyAnimation"
   ]
  },
  {
   "cell_type": "code",
   "execution_count": null,
   "metadata": {},
   "outputs": [],
   "source": [
    "class Example(QWidget):\n",
    "    def __init__(self):\n",
    "        super().__init__()\n",
    "        self.initUI()\n",
    "        \n",
    "    def initUI(self):\n",
    "        self.button = QPushButton('Start', self)\n",
    "        self.button.clicked.connect(self.doAnim)\n",
    "        self.button.move(30, 30)\n",
    "        \n",
    "        self.frame = QFrame(self)\n",
    "        self.frame.setFrameStyle(QFrame.Panel | QFrame.Raised)\n",
    "        self.frame.setGeometry(150, 30, 100, 100)\n",
    "        \n",
    "        self.setGeometry(300, 300, 380, 300)\n",
    "        self.setWindowTitle('Animation')\n",
    "        self.show()\n",
    "        \n",
    "    def doAnim(self):\n",
    "        self.anim = QPropertyAnimation(self.frame, b'geometry')\n",
    "        self.anim.setDuration(10000)\n",
    "        self.anim.setStartValue(QRect(150, 30, 100, 100))\n",
    "        self.anim.setEndValue(QRect(150, 30, 200, 200))\n",
    "        self.anim.start()\n",
    "        \n",
    "        \n",
    "if __name__ == '__main__':\n",
    "    app = QApplication([])\n",
    "    ex = Example()\n",
    "    ex.show()\n",
    "    app.exec_()\n",
    "# In this example we animate the size of a QFrame widget.\n",
    "# The animation is started with a QPushButton.\n",
    "# QPropertyAnimation is created by QPropertyAnimation(...). The first parameter is the target\n",
    "# object to be animation; in our case we animate a QFrame widget. The second parameter is\n",
    "# the property that is going to be changed,\n",
    "# The setDuration() sets the duration of the animation in milliseconds.\n",
    "# With setStartValue() and setEndValue() we define starting and ending values of the\n",
    "# animation, respectively.\n",
    "# Animation begins with the start() method."
   ]
  },
  {
   "cell_type": "markdown",
   "metadata": {},
   "source": [
    "## Animating colour with QPropertyAnimation"
   ]
  },
  {
   "cell_type": "code",
   "execution_count": null,
   "metadata": {},
   "outputs": [],
   "source": [
    "# The following example animates the colour of a widget, Since there is no colour property,\n",
    "# we have to create one."
   ]
  },
  {
   "cell_type": "code",
   "execution_count": null,
   "metadata": {},
   "outputs": [],
   "source": [
    "import sys\n",
    "from PyQt5.QtWidgets import (QWidget, QApplication, QPushButton, \n",
    "                             QLabel, QHBoxLayout, QSizePolicy)\n",
    "from PyQt5.QtGui import QColor\n",
    "from PyQt5.QtCore import QPropertyAnimation, pyqtProperty"
   ]
  },
  {
   "cell_type": "code",
   "execution_count": null,
   "metadata": {},
   "outputs": [],
   "source": [
    "class MyLabel(QLabel):\n",
    "    def __init__(self, text):\n",
    "        super().__init__(text)\n",
    "        \n",
    "    def _set_color(self, col):\n",
    "        palette = self.palette()\n",
    "        palette.setColor(self.foregroundRole(), col)\n",
    "        self.setPalette(palette)\n",
    "        \n",
    "    color = pyqtProperty(QColor, fset=_set_color)\n",
    "    \n",
    "    \n",
    "class Example2(QWidget):\n",
    "    def __init__(self):\n",
    "        super().__init__()\n",
    "        self.initUI()\n",
    "        \n",
    "    def initUI(self):\n",
    "        hbox = QHBoxLayout(self)\n",
    "        \n",
    "        self.button = QPushButton('Start', self)\n",
    "        self.button.setSizePolicy(QSizePolicy.Fixed, QSizePolicy.Fixed)\n",
    "        hbox.addWidget(self.button)\n",
    "        \n",
    "        hbox.addSpacing(40)\n",
    "        \n",
    "        self.label = MyLabel('Summer')\n",
    "        font = self.label.font()\n",
    "        font.setPointSize(25)\n",
    "        self.label.setFont(font)\n",
    "        hbox.addWidget(self.label)\n",
    "        \n",
    "        self.anim = QPropertyAnimation(self.label, b'color')\n",
    "        self.anim.setDuration(2500)\n",
    "        self.anim.setLoopCount(2)\n",
    "        self.anim.setStartValue(QColor(0, 0, 0))\n",
    "        self.anim.setEndValue(QColor(255, 255, 255))\n",
    "        \n",
    "        self.button.clicked.connect(self.anim.start)\n",
    "        \n",
    "        self.setGeometry(300, 300, 380, 250)\n",
    "        self.setWindowTitle('Color anim')\n",
    "        self.show()\n",
    "        \n",
    "        \n",
    "if __name__ == '__main__':\n",
    "    app = QApplication([])\n",
    "    ex = Example2()\n",
    "    ex.show()\n",
    "    app.exec_()\n",
    "# In this example we gradually changes the color value of a QLabel.\n",
    "# QLabel does not have a color property; therefore we define one with pyqtProperty.\n",
    "# Changing this property updates the colour of the label.\n",
    "# The QPropertyAnimation changes the color property of the label widget.\n",
    "# With setLoopCount() method we can change how many times the animation will run."
   ]
  },
  {
   "cell_type": "markdown",
   "metadata": {},
   "source": [
    "## Animation along curve with QPropertyAnimation"
   ]
  },
  {
   "cell_type": "code",
   "execution_count": null,
   "metadata": {},
   "outputs": [],
   "source": [
    "import sys\n",
    "from PyQt5.QtWidgets import QWidget, QApplication, QLabel\n",
    "from PyQt5.QtGui import QPainter, QPixmap, QPainterPath\n",
    "from PyQt5.QtCore import QObject, QPointF, QPropertyAnimation, pyqtProperty"
   ]
  },
  {
   "cell_type": "code",
   "execution_count": null,
   "metadata": {
    "scrolled": true
   },
   "outputs": [],
   "source": [
    "class Ball(QLabel):\n",
    "    def __init__(self, parent):\n",
    "        super().__init__(parent)\n",
    "        \n",
    "        pix = QPixmap('ball.png')\n",
    "        self.h = pix.height()\n",
    "        self.w = pix.width()\n",
    "        \n",
    "        self.setPixmap(pix)\n",
    "        \n",
    "    def _set_pos(self, pos):\n",
    "        self.move(pos.x() - self.w / 2, pos.y() - self.h / 2)\n",
    "        \n",
    "    pos = pyqtProperty(QPointF, fset=_set_pos)\n",
    "    \n",
    "    \n",
    "class Example3(QWidget):\n",
    "    def __init__(self):\n",
    "        super().__init__()\n",
    "        self.initView()\n",
    "        self.initAnimation()\n",
    "        \n",
    "    def initView(self):\n",
    "        self.path = QPainterPath()\n",
    "        self.path.moveTo(30, 30)\n",
    "        self.path.cubicTo(30, 30, 200, 350, 350, 30)\n",
    "        \n",
    "        self.ball = Ball(self)\n",
    "        self.ball.pos = QPointF(30, 30)\n",
    "        \n",
    "        self.setWindowTitle('Animation along curve')\n",
    "        self.setGeometry(300, 300 , 400, 300)\n",
    "        self.show()\n",
    "        \n",
    "    def paintEvent(self, e):\n",
    "        qp = QPainter()\n",
    "        qp.begin(self)\n",
    "        qp.setRenderHint(QPainter.Antialiasing)\n",
    "        qp.drawPath(self.path)\n",
    "        qp.end()\n",
    "        \n",
    "    def initAnimation(self):\n",
    "        self.anim = QPropertyAnimation(self.ball, b'pos')\n",
    "        self.anim.setDuration(7000)\n",
    "        self.anim.setStartValue(QPointF(30, 30))\n",
    "        \n",
    "        vals = [p/100 for p in range(0, 101)]\n",
    "        \n",
    "        for i in vals:\n",
    "            self.anim.setKeyValueAt(i, self.path.pointAtPercent(i))\n",
    "            \n",
    "        self.anim.setEndValue(QPointF(350, 30))\n",
    "        self.anim.start()\n",
    "        \n",
    "        \n",
    "if __name__ == '__main__':\n",
    "    app = QApplication(sys.argv)\n",
    "    ex = Example3()\n",
    "    sys.exit(app.exec_())\n",
    "# In this examnple we draw a curve on the window. It animates a ball object along the painted curve.\n",
    "# We adjust the position of the ball; we want the middle of the label to be placed on the curve.\n",
    "# The Bezier curve is created with QPainterPath. Its cubicTo() method takes starting point,\n",
    "# control point and ending point as parameters.\n",
    "# The curve is painted with the drawPath() method in the paintEvent() method.\n",
    "# We animate the ball's pos property with QPropertyAnimation.\n",
    "# With the Python list comprehension, we create a list of animation steps. The steps are\n",
    "# values between 0 and 1.\n",
    "# With setKeyValueAt() we define the position fo the ball at the fiven step.\n",
    "# With pointAtPercent() we get the QPointF at the given percentage of the path."
   ]
  },
  {
   "cell_type": "markdown",
   "metadata": {},
   "source": [
    "## QPropertyAnimation in Graphics View Framework"
   ]
  },
  {
   "cell_type": "code",
   "execution_count": null,
   "metadata": {},
   "outputs": [],
   "source": [
    "# QPropertyAnimation can animate graphics items in the Graphics View Framework. The animated\n",
    "# object must inherit from QObject and QGraphicsItem."
   ]
  },
  {
   "cell_type": "code",
   "execution_count": null,
   "metadata": {},
   "outputs": [],
   "source": [
    "import sys\n",
    "from PyQt5.QtWidgets import (QApplication, QGraphicsView, QGraphicsPixmapItem,\n",
    "                             QGraphicsScene)\n",
    "from PyQt5.QtGui import QPainter, QPixmap\n",
    "from PyQt5.QtCore import QObject, QPointF, QPropertyAnimation, pyqtProperty"
   ]
  },
  {
   "cell_type": "code",
   "execution_count": null,
   "metadata": {},
   "outputs": [],
   "source": [
    "class Ball(QObject):\n",
    "    def __init__(self):\n",
    "        super().__init__()\n",
    "        self.pixmap_item = QGraphicsPixmapItem(QPixmap('ball.png'))\n",
    "        \n",
    "    def _set_pos(self, pos):\n",
    "        self.pixmap_item.setPos(pos)\n",
    "        \n",
    "    pos = pyqtProperty(QPointF, fset=_set_pos)\n",
    "    \n",
    "    \n",
    "class Example4(QGraphicsView):\n",
    "    def __init__(self):\n",
    "        super().__init__()\n",
    "        self.initView()\n",
    "        \n",
    "    def initView(self):\n",
    "        self.ball = Ball()\n",
    "        \n",
    "        self.anim = QPropertyAnimation(self.ball, b'pos')\n",
    "        self.anim.setDuration(8000)\n",
    "        self.anim.setStartValue(QPointF(5, 30))\n",
    "        \n",
    "        self.anim.setKeyValueAt(0.3, QPointF(80, 30))\n",
    "        self.anim.setKeyValueAt(0.5, QPointF(200, 30))\n",
    "        self.anim.setKeyValueAt(0.8, QPointF(250, 250))\n",
    "        \n",
    "        self.anim.setEndValue(QPointF(290, 30))\n",
    "        \n",
    "        self.scene = QGraphicsScene(self)\n",
    "        self.scene.setSceneRect(0, 0, 300, 300)\n",
    "        self.scene.addItem(self.ball.pixmap_item)\n",
    "        self.setScene(self.scene)\n",
    "        \n",
    "        self.setRenderHint(QPainter.Antialiasing)\n",
    "        self.setGeometry(300, 300, 500, 350)\n",
    "        self.setWindowTitle('Ball animation')\n",
    "        \n",
    "        self.anim.start()\n",
    "        self.show()\n",
    "        \n",
    "        \n",
    "if __name__ == '__main__':\n",
    "    app = QApplication(sys.argv)\n",
    "    ex = Example4()\n",
    "    sys.exit(app.exec_())\n",
    "# In this example we animate a ball object with QPropertyAnimation in a Graphics View Framework.\n",
    "# Since PyQt does not support multiple inheritance, we use composition technique to fullfill\n",
    "# the previously mentioned condition.\n",
    "# QGraphicsView visualizes the contents of a QGraphicsScene in a scrollable viewport.\n",
    "# We are going to animate the position property of the ball object with QPropertyAnimation.\n",
    "# With the setKeyValueAt() method we create a key frame at the given step with the given value.\n",
    "# In other words, we define where the ball is located at the given step of the animation.\n",
    "# QGraphicsScene is created by QGraphicsScene(...) and the ball is added to the scene.\n",
    "# It provides a surface for managing a large number of 2D graphical items.\n",
    "# Notice that we add the ball property to the scene, not the ball object."
   ]
  }
 ],
 "metadata": {
  "kernelspec": {
   "display_name": "Python 3",
   "language": "python",
   "name": "python3"
  },
  "language_info": {
   "codemirror_mode": {
    "name": "ipython",
    "version": 3
   },
   "file_extension": ".py",
   "mimetype": "text/x-python",
   "name": "python",
   "nbconvert_exporter": "python",
   "pygments_lexer": "ipython3",
   "version": "3.8.5"
  }
 },
 "nbformat": 4,
 "nbformat_minor": 4
}
