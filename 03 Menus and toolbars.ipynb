{
 "cells": [
  {
   "cell_type": "markdown",
   "metadata": {},
   "source": [
    "## Statusbar"
   ]
  },
  {
   "cell_type": "code",
   "execution_count": 8,
   "metadata": {},
   "outputs": [],
   "source": [
    "import sys\n",
    "from PyQt5.QtWidgets import QMainWindow, QApplication"
   ]
  },
  {
   "cell_type": "code",
   "execution_count": null,
   "metadata": {},
   "outputs": [],
   "source": [
    "# A statusbar is a widget that is used for displaying status information.\n",
    "class Example(QMainWindow):\n",
    "    def __init__(self):\n",
    "        super().__init__()\n",
    "        self.initUI()\n",
    "        \n",
    "    def initUI(self):\n",
    "        self.statusBar().showMessage('Ready')\n",
    "        self.setGeometry(300, 300, 250, 150)\n",
    "        self.setWindowTitle('Statusbar')\n",
    "        self.show()\n",
    "    \n",
    "    \n",
    "def main():\n",
    "    app = QApplication(sys.argv)\n",
    "    ex = Example()\n",
    "    sys.exit(app.exec_())\n",
    "    \n",
    "if __name__ == '__main__':\n",
    "    main()\n",
    "# The statusbar is created with the help of the QMainWindow widget.\n",
    "# To get the statusbar, we call the statusBar() method of the QtGui.QMainWindow class.\n",
    "# The showMessage() displays a message on the statusbar."
   ]
  },
  {
   "cell_type": "markdown",
   "metadata": {},
   "source": [
    "## PyQt5 simple menu"
   ]
  },
  {
   "cell_type": "code",
   "execution_count": null,
   "metadata": {},
   "outputs": [],
   "source": [
    "import sys\n",
    "from PyQt5.QtWidgets import QMainWindow, QAction, qApp, QApplication\n",
    "from PyQt5.QtGui import QIcon"
   ]
  },
  {
   "cell_type": "code",
   "execution_count": null,
   "metadata": {},
   "outputs": [],
   "source": [
    "class Example2(QMainWindow):\n",
    "    def __init__(self):\n",
    "        super().__init__()\n",
    "        self.initUI()\n",
    "        \n",
    "    def initUI(self):\n",
    "        exitAct = QAction(QIcon('exit.png'), '&Exit', self)\n",
    "        exitAct.setShortcut('Ctrl+Q')\n",
    "        exitAct.setStatusTip('Exit application')\n",
    "        exitAct.triggered.connect(qApp.quit)\n",
    "        \n",
    "        self.statusBar()\n",
    "        \n",
    "        menubar = self.menuBar()\n",
    "        fileMenu = menubar.addMenu('&File')\n",
    "        fileMenu.addAction(exitAct)\n",
    "        \n",
    "        self.setGeometry(300, 300, 300, 300)\n",
    "        self.setWindowTitle('Simple menu')\n",
    "        self.show()\n",
    "        \n",
    "        \n",
    "def main():\n",
    "    app = QApplication(sys.argv)\n",
    "    ex = Example2()\n",
    "    sys.exit(app.exec_())\n",
    "    \n",
    "if __name__ == \"__main__\":\n",
    "    main()\n",
    "# In this example we create a menubar with one menu. This menu contains one action which terminates the application if selected.\n",
    "# QAction is an abstraction for actions performed with a menubar, toolbar or with custom keyboard shortcut.\n",
    "# exitAct.setStatusTip('Exit application') this line creates a status tip which is shown in the statusbat when we hover a mouse pointer on it.\n",
    "# When we select this action, a triggered signal is emitted. The signal is connected to the quit() method of the QApplication widget. This terminates the application.\n",
    "# The menuBar() method creates a menubar.\n",
    "# We create a file menu with addMenu() and add the action addAction()."
   ]
  },
  {
   "cell_type": "markdown",
   "metadata": {},
   "source": [
    "## PyQt5 submenu"
   ]
  },
  {
   "cell_type": "code",
   "execution_count": null,
   "metadata": {},
   "outputs": [],
   "source": [
    "import sys\n",
    "from PyQt5.QtWidgets import QMainWindow, QAction, QMenu, QApplication"
   ]
  },
  {
   "cell_type": "code",
   "execution_count": null,
   "metadata": {},
   "outputs": [],
   "source": [
    "# A submenu is a menu located inside another menu.\n",
    "class Example3(QMainWindow):\n",
    "    def __init__(self):\n",
    "        super().__init__()\n",
    "        self.initUI()\n",
    "        \n",
    "    def initUI(self):\n",
    "        menubar = self.menuBar()\n",
    "        fileMenu = menubar.addMenu('File')\n",
    "        \n",
    "        impMenu = QMenu('Import', self)\n",
    "        impAct = QAction('Import mail', self)\n",
    "        impMenu.addAction(impAct)\n",
    "        \n",
    "        newAct = QAction('New', self)\n",
    "        \n",
    "        fileMenu.addAction(newAct)\n",
    "        fileMenu.addMenu(impMenu)\n",
    "        \n",
    "        self.setGeometry(300, 300, 300, 300)\n",
    "        self.setWindowTitle('Submenu')\n",
    "        self.show()\n",
    "        \n",
    "\n",
    "def main():\n",
    "    app = QApplication(sys.argv)\n",
    "    ex = Example3()\n",
    "    sys.exit(app.exec_())\n",
    "    \n",
    "if __name__ == '__main__':\n",
    "    main()\n",
    "# New menu is created with QMenu.\n",
    "# An action is added to the submenu with addAction()."
   ]
  },
  {
   "cell_type": "markdown",
   "metadata": {},
   "source": [
    "## PyQt5 check menu"
   ]
  },
  {
   "cell_type": "code",
   "execution_count": null,
   "metadata": {},
   "outputs": [],
   "source": [
    "import sys\n",
    "from PyQt5.QtWidgets import QMainWindow, QAction, QApplication"
   ]
  },
  {
   "cell_type": "code",
   "execution_count": null,
   "metadata": {},
   "outputs": [],
   "source": [
    "# In this example we create a menu that can be checked and unchecked.\n",
    "class Example3(QMainWindow):\n",
    "    def __init__(self):\n",
    "        super().__init__()\n",
    "        self.initUI()\n",
    "        \n",
    "    def initUI(self):\n",
    "        self.statusbar = self.statusBar()\n",
    "        self.statusbar.showMessage('Ready')\n",
    "        \n",
    "        menubar = self.menuBar()\n",
    "        viewMenu = menubar.addMenu('View')\n",
    "        \n",
    "        viewStatAct = QAction('View statusbar', self, checkable = True)\n",
    "        viewStatAct.setStatusTip('View statusbar')\n",
    "        viewStatAct.setChecked(True)\n",
    "        viewStatAct.triggered.connect(self.toggleMenu)\n",
    "        viewMenu.addAction(viewStatAct)\n",
    "        \n",
    "        self.setGeometry(300, 300, 300, 300)\n",
    "        self.setWindowTitle('Check menu')\n",
    "        self.show()\n",
    "        \n",
    "    def toggleMenu(self, state):\n",
    "        if state:\n",
    "            self.statusbar.show()\n",
    "        else:\n",
    "            self.statusbar.hide()\n",
    "     \n",
    "    \n",
    "def main():\n",
    "    app = QApplication(sys.argv)\n",
    "    ex = Example3()\n",
    "    sys.exit(app.exec_())\n",
    "    \n",
    "if __name__ == '__main__':\n",
    "    main()\n",
    "# In this example we create a View menu with one action. The action shows or hides a statusbar.\n",
    "# When the statusbar is visible, the menu item is checked.\n",
    "# With the checkable option we create a checkable menu in viewStatAct.\n",
    "# Since the statusbar is visible from the start we check the action with setChecked() method.\n",
    "# Depending on the state of the action, we show or hide the statusbar."
   ]
  },
  {
   "cell_type": "markdown",
   "metadata": {},
   "source": [
    "## PyQt5 context menu"
   ]
  },
  {
   "cell_type": "code",
   "execution_count": null,
   "metadata": {},
   "outputs": [],
   "source": [
    "import sys\n",
    "from PyQt5.QtWidgets import QMainWindow, qApp, QMenu, QApplication"
   ]
  },
  {
   "cell_type": "code",
   "execution_count": null,
   "metadata": {},
   "outputs": [],
   "source": [
    "# A context menu is also called a popup menu.\n",
    "class Example4(QMainWindow):\n",
    "    def __init__(self):\n",
    "        super().__init__()\n",
    "        self.initUI()\n",
    "        \n",
    "    def initUI(self):\n",
    "        self.setGeometry(300, 300, 300, 300)\n",
    "        self.setWindowTitle('Context menu')\n",
    "        self.show()\n",
    "        \n",
    "    def contextMenuEvent(self, event):\n",
    "        cmenu = QMenu(self)\n",
    "        \n",
    "        newAct = cmenu.addAction('New')\n",
    "        openAct = cmenu.addAction('Open')\n",
    "        quitAct = cmenu.addAction('Quit')\n",
    "        action = cmenu.exec_(self.mapToGlobal(event.pos()))\n",
    "        \n",
    "        if action == quitAct:\n",
    "            qApp.quit()\n",
    "    \n",
    "\n",
    "def main():\n",
    "    app = QApplication(sys.argv)\n",
    "    ex = Example4()\n",
    "    sys.exit(app.exec_())\n",
    "    \n",
    "if __name__ == '__main__':\n",
    "    main()\n",
    "# To work with a context menu we have to reimplement the contextMenuEvent() method.\n",
    "# A context menu is displayed with the exec_() method.\n",
    "# The mapToGlobal() method translates the widget coordinates to the global screen coordinates.\n",
    "# If the action returned from the context menu equals to quit action, we terminate the application."
   ]
  },
  {
   "cell_type": "markdown",
   "metadata": {},
   "source": [
    "## PyQt5 toolbar"
   ]
  },
  {
   "cell_type": "code",
   "execution_count": null,
   "metadata": {},
   "outputs": [],
   "source": [
    "import sys\n",
    "from PyQt5.QtWidgets import QMainWindow, QAction, qApp, QApplication\n",
    "from PyQt5.QtGui import QIcon"
   ]
  },
  {
   "cell_type": "code",
   "execution_count": null,
   "metadata": {},
   "outputs": [],
   "source": [
    "# Toolbars provide a quick access to the most frequently used commands.\n",
    "class Example5(QMainWindow):\n",
    "    def __init__(self):\n",
    "        super().__init__()\n",
    "        self.initUI()\n",
    "        \n",
    "    def initUI(self):\n",
    "        exitAct = QAction(QIcon('exit.png'), 'Exit', self)\n",
    "        exitAct.setShortcut('Ctrl+Q')\n",
    "        exitAct.triggered.connect(qApp.quit)\n",
    "        \n",
    "        self.toolbar = self.addToolBar('Exit')\n",
    "        self.toolbar.addAction(exitAct)\n",
    "        \n",
    "        self.setGeometry(300, 300, 300, 300)\n",
    "        self.setWindowTitle('Toolbar')\n",
    "        self.show()\n",
    "        \n",
    "def main():\n",
    "    app =QApplication(sys.argv)\n",
    "    ex = Example5()\n",
    "    sys.exit(app.exec_())\n",
    "    \n",
    "if __name__ == '__main__':\n",
    "    main()\n",
    "# In this example we create a simple toolbar. The toolbar has one tool action, an exit which terminates the application when triggered.\n",
    "# A quit() method of the QtGui.QMainWindow is connected to the triggered signl.\n",
    "# The toolbar is created with the addToolBar() method. We add an action object to the toolbar with addAction()."
   ]
  },
  {
   "cell_type": "markdown",
   "metadata": {},
   "source": [
    "## PyQt5 main window"
   ]
  },
  {
   "cell_type": "code",
   "execution_count": null,
   "metadata": {},
   "outputs": [],
   "source": [
    "import sys\n",
    "from PyQt5.QtWidgets import QMainWindow, QTextEdit, QAction, QApplication\n",
    "from PyQt5.QtGui import QIcon"
   ]
  },
  {
   "cell_type": "code",
   "execution_count": null,
   "metadata": {},
   "outputs": [],
   "source": [
    "class Example6(QMainWindow):\n",
    "    def __init__(self):\n",
    "        super().__init__()\n",
    "        self.initUI()\n",
    "        \n",
    "    def initUI(self):\n",
    "        textEdit = QTextEdit()\n",
    "        self.setCentralWidget(textEdit)\n",
    "        \n",
    "        exitAct = QAction(QIcon('exit.png'), 'Exit', self)\n",
    "        exitAct.setShortcut('Ctrl+Q')\n",
    "        exitAct.setStatusTip('Exit application')\n",
    "        exitAct.triggered.connect(self.close)\n",
    "        \n",
    "        self.statusBar()\n",
    "        menubar = self.menuBar()\n",
    "        fileMenu = menubar.addMenu('&File')\n",
    "        fileMenu.addAction(exitAct)\n",
    "        \n",
    "        toolbar = self.addToolBar('Exit')\n",
    "        toolbar.addAction(exitAct)\n",
    "        \n",
    "        self.setGeometry(300, 300, 300, 300)\n",
    "        self.setWindowTitle('Main window')\n",
    "        self.show()\n",
    "        \n",
    "        \n",
    "def main():\n",
    "    app = QApplication(sys.argv)\n",
    "    ex = Example6()\n",
    "    sys.exit(app.exec_())\n",
    "    \n",
    "if __name__ == \"__main__\":\n",
    "    main()\n",
    "# In this example we creates a skeleton of a classic GUI application with a menubar, toolbar and a statusbar.\n",
    "# Here we create a text edit widget. We set it to be the central widget of the QMainWindow.\n",
    "# The central widget occupies all space that is left."
   ]
  }
 ],
 "metadata": {
  "kernelspec": {
   "display_name": "Python 3",
   "language": "python",
   "name": "python3"
  },
  "language_info": {
   "codemirror_mode": {
    "name": "ipython",
    "version": 3
   },
   "file_extension": ".py",
   "mimetype": "text/x-python",
   "name": "python",
   "nbconvert_exporter": "python",
   "pygments_lexer": "ipython3",
   "version": "3.8.5"
  }
 },
 "nbformat": 4,
 "nbformat_minor": 4
}
