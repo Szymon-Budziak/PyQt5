{
 "cells": [
  {
   "cell_type": "code",
   "execution_count": 1,
   "metadata": {},
   "outputs": [],
   "source": [
    "# Here we will cover QPixmap, QLineEdit, QSplitter and QComboBox."
   ]
  },
  {
   "cell_type": "markdown",
   "metadata": {},
   "source": [
    "## QPixmap"
   ]
  },
  {
   "cell_type": "code",
   "execution_count": 2,
   "metadata": {},
   "outputs": [],
   "source": [
    "# A QPixmpa is one of the widgets used to work with images.\n",
    "# It is optimized for showing images on screen."
   ]
  },
  {
   "cell_type": "code",
   "execution_count": 3,
   "metadata": {},
   "outputs": [],
   "source": [
    "import sys\n",
    "from PyQt5.QtWidgets import QApplication, QWidget, QLabel, QHBoxLayout\n",
    "from PyQt5.QtGui import QPixmap"
   ]
  },
  {
   "cell_type": "code",
   "execution_count": null,
   "metadata": {},
   "outputs": [],
   "source": [
    "class Example(QWidget):\n",
    "    def __init__(self):\n",
    "        super().__init__()\n",
    "        self.initUI()\n",
    "        \n",
    "    def initUI(self):\n",
    "        hbox = QHBoxLayout(self)\n",
    "        pixmap = QPixmap('sid.png')\n",
    "        \n",
    "        lbl = QLabel(self)\n",
    "        lbl.setPixmap(pixmap)\n",
    "        \n",
    "        hbox.addWidget(lbl)\n",
    "        self.setLayout(hbox)\n",
    "        \n",
    "        self.move(300, 200)\n",
    "        self.setWindowTitle('Sid')\n",
    "        self.show()\n",
    "        \n",
    "        \n",
    "def main():\n",
    "    app = QApplication(sys.argv)\n",
    "    ex = Example()\n",
    "    sys.exit(app.exec_())\n",
    "    \n",
    "if __name__ == '__main__':\n",
    "    main()\n",
    "# In this example we display an image on the window.\n",
    "# We create a QPixmap object. It takes the name of the file as a parameter."
   ]
  },
  {
   "cell_type": "markdown",
   "metadata": {},
   "source": [
    "## QLineEdit"
   ]
  },
  {
   "cell_type": "code",
   "execution_count": null,
   "metadata": {},
   "outputs": [],
   "source": [
    "# QLineEdit is a widget that allows to enter and edit a single line of plain text.\n",
    "# There are undo and redu, cut and paste and drag & drop functions available for the widget."
   ]
  },
  {
   "cell_type": "code",
   "execution_count": null,
   "metadata": {},
   "outputs": [],
   "source": [
    "import sys\n",
    "from PyQt5.QtWidgets import QApplication, QWidget, QLabel, QLineEdit"
   ]
  },
  {
   "cell_type": "code",
   "execution_count": null,
   "metadata": {},
   "outputs": [],
   "source": [
    "class Example2(QWidget):\n",
    "    def __init__(self):\n",
    "        super().__init__()\n",
    "        self.initUI()\n",
    "        \n",
    "    def initUI(self):\n",
    "        self.lbl = QLabel(self)\n",
    "        qle = QLineEdit(self)\n",
    "        \n",
    "        qle.move(60, 100)\n",
    "        self.lbl.move(60, 40)\n",
    "        qle.textChanged[str].connect(self.onChanged)\n",
    "        \n",
    "        self.setGeometry(300, 300, 350, 250)\n",
    "        self.setWindowTitle('QLineEdit')\n",
    "        self.show()\n",
    "        \n",
    "    def onChanged(self, text):\n",
    "        self.lbl.setText(text)\n",
    "        self.lbl.adjustSize()\n",
    "        \n",
    "        \n",
    "def main():\n",
    "    app = QApplication(sys.argv)\n",
    "    ex = Example2()\n",
    "    sys.exit(app.exec_())\n",
    "    \n",
    "if __name__ == '__main__':\n",
    "    main()\n",
    "# In this example we show a line edit widget and a label.\n",
    "# The QLineEdit widget is created by QLineEdit(self).\n",
    "# If the text in the line edit widget changes, we call the onChanged method.\n",
    "# Inside the onChanged method, we set the typed text to the label widget.\n",
    "# We call the adjustSize method to adjust the size of the label to the length of the text."
   ]
  },
  {
   "cell_type": "markdown",
   "metadata": {},
   "source": [
    "## QSplitter"
   ]
  },
  {
   "cell_type": "code",
   "execution_count": null,
   "metadata": {},
   "outputs": [],
   "source": [
    "# QSlider lets user control the size of cild widgets by dragging the boundary between its children."
   ]
  },
  {
   "cell_type": "code",
   "execution_count": null,
   "metadata": {},
   "outputs": [],
   "source": [
    "import sys\n",
    "from PyQt5.QtWidgets import QApplication, QWidget, QSplitter, QHBoxLayout, QFrame\n",
    "from PyQt5.QtCore import Qt"
   ]
  },
  {
   "cell_type": "code",
   "execution_count": null,
   "metadata": {},
   "outputs": [],
   "source": [
    "class Example3(QWidget):\n",
    "    def __init__(self):\n",
    "        super().__init__()\n",
    "        self.initUI()\n",
    "        \n",
    "    def initUI(self):\n",
    "        hbox = QHBoxLayout(self)\n",
    "        \n",
    "        topleft = QFrame(self)\n",
    "        topleft.setFrameShape(QFrame.StyledPanel)\n",
    "        \n",
    "        topright = QFrame(self)\n",
    "        topright.setFrameShape(QFrame.StyledPanel)\n",
    "        \n",
    "        bottom = QFrame(self)\n",
    "        bottom.setFrameShape(QFrame.StyledPanel)\n",
    "        \n",
    "        splitter1 = QSplitter(Qt.Horizontal)\n",
    "        splitter1.addWidget(topleft)\n",
    "        splitter1.addWidget(topright)\n",
    "        \n",
    "        splitter2 = QSplitter(Qt.Vertical)\n",
    "        splitter2.addWidget(splitter1)\n",
    "        splitter2.addWidget(bottom)\n",
    "        \n",
    "        hbox.addWidget(splitter2)\n",
    "        self.setLayout(hbox)\n",
    "        \n",
    "        self.setGeometry(300, 300, 450, 400)\n",
    "        self.setWindowTitle('QSplitter')\n",
    "        self.show()\n",
    "        \n",
    "        \n",
    "def main():\n",
    "    app = QApplication(sys.argv)\n",
    "    ex = Example3()\n",
    "    sys.exit(app.exec_())\n",
    "    \n",
    "if __name__ == '__main__':\n",
    "    main()\n",
    "# In this example we have three frame widgets and two splitters.\n",
    "# Note that under some themes, the splitters may not be visible very well.\n",
    "# We use a styled frame in order to see the boundaries between the QFrame widgets.\n",
    "# We create a QSplitter widget and add two frames into it (splitter1).\n",
    "# We can also add a splitter to another splitter widget (splitter2)."
   ]
  },
  {
   "cell_type": "markdown",
   "metadata": {},
   "source": [
    "## QComboBox"
   ]
  },
  {
   "cell_type": "code",
   "execution_count": null,
   "metadata": {},
   "outputs": [],
   "source": [
    "# QComboBox is a widget that allows a user to choose from a list of options."
   ]
  },
  {
   "cell_type": "code",
   "execution_count": null,
   "metadata": {},
   "outputs": [],
   "source": [
    "import sys\n",
    "from PyQt5.QtWidgets import QWidget, QApplication, QComboBox, QLabel"
   ]
  },
  {
   "cell_type": "code",
   "execution_count": null,
   "metadata": {},
   "outputs": [],
   "source": [
    "class Example4(QWidget):\n",
    "    def __init__(self):\n",
    "        super().__init__()\n",
    "        self.initUI()\n",
    "        \n",
    "    def initUI(self):\n",
    "        self.lbl = QLabel('Ubuntu', self)\n",
    "        \n",
    "        combo = QComboBox(self)\n",
    "        combo.addItem('Ubuntu')\n",
    "        combo.addItem('Mandriva')\n",
    "        combo.addItem('Fedora')\n",
    "        combo.addItem('Arch')\n",
    "        combo.addItem('Gentoo')\n",
    "        \n",
    "        combo.move(50, 50)\n",
    "        self.lbl.move(50, 150)\n",
    "        \n",
    "        combo.activated[str].connect(self.onActivated)\n",
    "        \n",
    "        self.setGeometry(300, 300, 450, 450)\n",
    "        self.setWindowTitle('QComboBox')\n",
    "        self.show()\n",
    "        \n",
    "    def onActivated(self, text):\n",
    "        self.lbl.setText(text)\n",
    "        self.lbl.adjustSize()\n",
    "        \n",
    "        \n",
    "def main():\n",
    "    app = QApplication(sys.argv)\n",
    "    ex = Example4()\n",
    "    sys.exit(app.exec_())\n",
    "    \n",
    "if __name__ == '__main__':\n",
    "    main()\n",
    "# This example shows a QComboBox and a QLabel.\n",
    "# The combo box has a list of five options. These are the names of Linux distros (in our example).\n",
    "# The label widget displays the selected option from the combo box.\n",
    "# We create a QComboBox widget with five options (Linux distros).\n",
    "# Upon and item selection, we call the onActivated() method.\n",
    "# Inside the method, we set the text of the chosen item to the label widget. We adjust the size of the label."
   ]
  }
 ],
 "metadata": {
  "kernelspec": {
   "display_name": "Python 3",
   "language": "python",
   "name": "python3"
  },
  "language_info": {
   "codemirror_mode": {
    "name": "ipython",
    "version": 3
   },
   "file_extension": ".py",
   "mimetype": "text/x-python",
   "name": "python",
   "nbconvert_exporter": "python",
   "pygments_lexer": "ipython3",
   "version": "3.8.5"
  }
 },
 "nbformat": 4,
 "nbformat_minor": 4
}
