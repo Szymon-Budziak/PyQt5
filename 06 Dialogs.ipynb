{
 "cells": [
  {
   "cell_type": "code",
   "execution_count": 4,
   "metadata": {},
   "outputs": [],
   "source": [
    "# A dialog is defines as a cenoversation between two or more persons. In a computer application\n",
    "# a dialog is a window which is used to \"talk\" to the application. Dialogs are used for things\n",
    "# such as getting data from users or changing application settings."
   ]
  },
  {
   "cell_type": "markdown",
   "metadata": {},
   "source": [
    "## PyQt5 QInputDialog"
   ]
  },
  {
   "cell_type": "code",
   "execution_count": 5,
   "metadata": {},
   "outputs": [],
   "source": [
    "# QInputDialog provides a simple convenienve dialog to get a single value from the user.\n",
    "# The input value can be a string , a number, or an item from a list."
   ]
  },
  {
   "cell_type": "code",
   "execution_count": 6,
   "metadata": {},
   "outputs": [],
   "source": [
    "import sys\n",
    "from PyQt5.QtWidgets import QWidget, QPushButton, QLineEdit, QApplication, QInputDialog"
   ]
  },
  {
   "cell_type": "code",
   "execution_count": null,
   "metadata": {},
   "outputs": [],
   "source": [
    "class Example(QWidget):\n",
    "    def __init__(self):\n",
    "        super().__init__()\n",
    "        self.initUI()\n",
    "        \n",
    "    def initUI(self):\n",
    "        self.btn = QPushButton('Dialog', self)\n",
    "        self.btn.move(20, 20)\n",
    "        self.btn.clicked.connect(self.showDialog)\n",
    "        \n",
    "        self.le = QLineEdit(self)\n",
    "        self.le.move(130, 22)\n",
    "        \n",
    "        self.setGeometry(300, 300, 450, 350)\n",
    "        self.setWindowTitle('Input Dialog')\n",
    "        self.show()\n",
    "        \n",
    "    def showDialog(self):\n",
    "        text, ok = QInputDialog.getText(self, 'Input Dialog', 'Enter your name: ')\n",
    "        if ok:\n",
    "            self.le.setText(str(text))\n",
    "            \n",
    "            \n",
    "def main():\n",
    "    app = QApplication(sys.argv)\n",
    "    ex = Example()\n",
    "    sys.exit(app.exec_())\n",
    "    \n",
    "if __name__ == '__main__':\n",
    "    main()\n",
    "# In this example we have a button and a line edit widget.\n",
    "# The entered text will be displayed in the line edit widget.\n",
    "# This line displayes the input dialog. The first string is a dialog title, the second one is a message within a dialog.\n",
    "# The text that we have received from the dialog is set to the line edit widget with setText()."
   ]
  },
  {
   "cell_type": "markdown",
   "metadata": {},
   "source": [
    "## PyQt5 QColorDialog"
   ]
  },
  {
   "cell_type": "code",
   "execution_count": null,
   "metadata": {},
   "outputs": [],
   "source": [
    "# QColorDialog provides a dialog widget for selecting colour values."
   ]
  },
  {
   "cell_type": "code",
   "execution_count": null,
   "metadata": {},
   "outputs": [],
   "source": [
    "import sys\n",
    "from PyQt5.QtWidgets import QWidget, QApplication, QPushButton, QColorDialog, QFrame\n",
    "from PyQt5.QtGui import QColor"
   ]
  },
  {
   "cell_type": "code",
   "execution_count": null,
   "metadata": {},
   "outputs": [],
   "source": [
    "class Example2(QWidget):\n",
    "    def __init__(self):\n",
    "        super().__init__()\n",
    "        self.initUI()\n",
    "        \n",
    "    def initUI(self):\n",
    "        col = QColor(0, 0, 0)\n",
    "        \n",
    "        self.btn = QPushButton('Dialog', self)\n",
    "        self.btn.move(20, 20)\n",
    "        self.btn.clicked.connect(self.showDialog)\n",
    "        \n",
    "        self.frm = QFrame(self)\n",
    "        self.frm.setStyleSheet(\"QWidget {background-color: %s}\" % col.name())\n",
    "        self.frm.setGeometry(130, 22, 200, 200)\n",
    "        \n",
    "        self.setGeometry(300, 300, 450, 350)\n",
    "        self.setWindowTitle('Color dialog')\n",
    "        self.show()\n",
    "        \n",
    "    def showDialog(self):\n",
    "        col = QColorDialog.getColor()\n",
    "        if col.isValid():\n",
    "            self.frm.setStyleSheet(\"QWidget {background-color: %s}\" % col.name())\n",
    "    \n",
    "\n",
    "def main():\n",
    "    app =QApplication(sys.argv)\n",
    "    ex = Example2()\n",
    "    sys.exit(app.exec_())\n",
    "    \n",
    "if __name__ == '__main__':\n",
    "    main()\n",
    "# In this example the application shows a push button and a QFrame. The widget background is set to black colour.\n",
    "# Using QColorDialog we can change its background.\n",
    "# The initial colour of the QFrame background is QColor(0, 0, 0).\n",
    "# We check if the colour is valid. If we click on the Cancel button, no valid colour is returned.\n",
    "# If the colour is valid, we change the background colour using style sheets."
   ]
  },
  {
   "cell_type": "markdown",
   "metadata": {},
   "source": [
    "## PyQt5 QFontDialog"
   ]
  },
  {
   "cell_type": "code",
   "execution_count": null,
   "metadata": {},
   "outputs": [],
   "source": [
    "# QFontDialog is a dialog widget for selecting a font."
   ]
  },
  {
   "cell_type": "code",
   "execution_count": null,
   "metadata": {},
   "outputs": [],
   "source": [
    "import sys\n",
    "from PyQt5.QtWidgets import (QApplication, QWidget, QPushButton, QLabel, \n",
    "                             QFontDialog, QVBoxLayout, QSizePolicy)"
   ]
  },
  {
   "cell_type": "code",
   "execution_count": null,
   "metadata": {},
   "outputs": [],
   "source": [
    "class Example3(QWidget):\n",
    "    def __init__(self):\n",
    "        super().__init__()\n",
    "        self.initUI()\n",
    "        \n",
    "    def initUI(self):\n",
    "        vbox = QVBoxLayout()\n",
    "        \n",
    "        btn = QPushButton('Dialog', self)\n",
    "        btn.setSizePolicy(QSizePolicy.Fixed, QSizePolicy.Fixed)\n",
    "        btn.move(20, 20)\n",
    "        vbox.addWidget(btn)\n",
    "    \n",
    "        btn.clicked.connect(self.showDialog)\n",
    "        self.lbl = QLabel('Knowledge only matters', self)\n",
    "        self.lbl.move(130, 20)\n",
    "        vbox.addWidget(self.lbl)\n",
    "        self.setLayout(vbox)\n",
    "        \n",
    "        self.setGeometry(300, 300, 450, 350)\n",
    "        self.setWindowTitle('Font dialog')\n",
    "        self.show()\n",
    "        \n",
    "    def showDialog(self):\n",
    "        font, ok = QFontDialog.getFont()\n",
    "        if ok:\n",
    "            self.lbl.setFont(font)\n",
    "            \n",
    "            \n",
    "def main():\n",
    "    app = QApplication(sys.argv)\n",
    "    ex = Example3()\n",
    "    sys.exit(app.exec_())\n",
    "    \n",
    "if __name__ =='__main__':\n",
    "    main()\n",
    "# In this example we have a button and a label.\n",
    "# With QFontDialog we change the font of the label.\n",
    "# The getFont method returns the font name and the ok parameter.\n",
    "# It is equal to True if the user clicked Ok, otherwise it is False.\n",
    "# If we clicked Ok, the font of the label is changed with setFont."
   ]
  },
  {
   "cell_type": "markdown",
   "metadata": {},
   "source": [
    "## PyQt5 QFileDialog"
   ]
  },
  {
   "cell_type": "code",
   "execution_count": null,
   "metadata": {},
   "outputs": [],
   "source": [
    "# QFileDialog is a dialog that allows users to select files or directories.\n",
    "# The files can be opened for both opening and saving."
   ]
  },
  {
   "cell_type": "code",
   "execution_count": null,
   "metadata": {},
   "outputs": [],
   "source": [
    "import sys\n",
    "from PyQt5.QtWidgets import QApplication, QMainWindow, QTextEdit, QAction, QFileDialog\n",
    "from PyQt5.QtGui import QIcon\n",
    "from pathlib import Path"
   ]
  },
  {
   "cell_type": "code",
   "execution_count": null,
   "metadata": {},
   "outputs": [],
   "source": [
    "class Example4(QMainWindow):\n",
    "    def __init__(self):\n",
    "        super().__init__()\n",
    "        self.initUI()\n",
    "        \n",
    "    def initUI(self):\n",
    "        self.textEdit = QTextEdit()\n",
    "        self.setCentralWidget(self.textEdit)\n",
    "        self.statusBar()\n",
    "        \n",
    "        openFile = QAction(QIcon('open.png'), 'Open', self)\n",
    "        openFile.setShortcut('Ctrl+O')\n",
    "        openFile.setStatusTip('Open new File')\n",
    "        openFile.triggered.connect(self.showDialog)\n",
    "        \n",
    "        menubar = self.menuBar()\n",
    "        fileMenu = menubar.addMenu('&File')\n",
    "        fileMenu.addAction(openFile)\n",
    "        \n",
    "        self.setGeometry(300, 300, 550, 450)\n",
    "        self.setWindowTitle('File dialog')\n",
    "        self.show()\n",
    "        \n",
    "    def showDialog(self):\n",
    "        home_dir = str(Path.home())\n",
    "        fname = QFileDialog.getOpenFileName(self, 'Open file', home_dir)\n",
    "        if fname[0]:\n",
    "            f = open(fname[0], 'r')\n",
    "            with f:\n",
    "                data = f.read()\n",
    "                self.textEdit.setText(data)\n",
    "                \n",
    "                \n",
    "def main():\n",
    "    app = QApplication(sys.argv)\n",
    "    ex = Example4()\n",
    "    sys.exit(app.exec_())\n",
    "    \n",
    "if __name__ == '__main__':\n",
    "    main()\n",
    "# The xample shows menubar, centrally set text edit widget and a statusbar.\n",
    "# The menu item shows the QFileDialog which is used to select file.\n",
    "# The example is based on the QMainWindow widget because we centrally set a text edit widget.\n",
    "# We pop up the QFileDialog.\n",
    "# The first string in the getOpenFileName() method is the caption. The second specifies the dialog working directory.\n",
    "# We use the path module to determine the user's home directory.\n",
    "# By default, the file filter is set to All files (*).\n",
    "# The selected file name is read and the contents of the file are set to the text edit widget."
   ]
  }
 ],
 "metadata": {
  "kernelspec": {
   "display_name": "Python 3",
   "language": "python",
   "name": "python3"
  },
  "language_info": {
   "codemirror_mode": {
    "name": "ipython",
    "version": 3
   },
   "file_extension": ".py",
   "mimetype": "text/x-python",
   "name": "python",
   "nbconvert_exporter": "python",
   "pygments_lexer": "ipython3",
   "version": "3.8.5"
  }
 },
 "nbformat": 4,
 "nbformat_minor": 4
}
