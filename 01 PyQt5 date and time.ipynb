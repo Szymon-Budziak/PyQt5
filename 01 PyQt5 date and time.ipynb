{
 "cells": [
  {
   "cell_type": "code",
   "execution_count": 8,
   "metadata": {},
   "outputs": [],
   "source": [
    "from PyQt5.QtCore import QDate, QTime, QDateTime, Qt"
   ]
  },
  {
   "cell_type": "code",
   "execution_count": 4,
   "metadata": {},
   "outputs": [],
   "source": [
    "# The QDate is a class for working with calendar date in the Gregorian calendar.\n",
    "# The QTime class works with a clock time.\n",
    "# The QDateTime is a class that combines both QDate and QTime objects into one object."
   ]
  },
  {
   "cell_type": "markdown",
   "metadata": {},
   "source": [
    "## Current date and time"
   ]
  },
  {
   "cell_type": "code",
   "execution_count": 5,
   "metadata": {},
   "outputs": [
    {
     "name": "stdout",
     "output_type": "stream",
     "text": [
      "2021-02-09\n",
      "wtorek, 9 lutego 2021\n",
      "wt. lut 9 11:19:59 2021\n",
      "11:19:59 CET\n"
     ]
    }
   ],
   "source": [
    "now = QDate.currentDate()\n",
    "print(now.toString(Qt.ISODate))\n",
    "print(now.toString(Qt.DefaultLocaleLongDate))\n",
    "\n",
    "datetime = QDateTime.currentDateTime()\n",
    "print(datetime.toString())\n",
    "\n",
    "time = QTime.currentTime()\n",
    "print(time.toString(Qt.DefaultLocaleLongDate))\n",
    "# This example prints the current date, date and time, and time in various formats."
   ]
  },
  {
   "cell_type": "code",
   "execution_count": 12,
   "metadata": {},
   "outputs": [],
   "source": [
    "now = QDate.currentDate()\n",
    "# The currentDate method returns the current date."
   ]
  },
  {
   "cell_type": "code",
   "execution_count": 13,
   "metadata": {},
   "outputs": [
    {
     "name": "stdout",
     "output_type": "stream",
     "text": [
      "2021-02-09\n",
      "wtorek, 9 lutego 2021\n"
     ]
    }
   ],
   "source": [
    "print(now.toString(Qt.ISODate))\n",
    "print(now.toString(Qt.DefaultLocaleLongDate))"
   ]
  },
  {
   "cell_type": "code",
   "execution_count": 14,
   "metadata": {},
   "outputs": [],
   "source": [
    "datetime = QDateTime.currentDateTime()\n",
    "# The currentDateTime returns current date and time."
   ]
  },
  {
   "cell_type": "code",
   "execution_count": 16,
   "metadata": {},
   "outputs": [
    {
     "name": "stdout",
     "output_type": "stream",
     "text": [
      "2021-02-09T11:23:07\n",
      "wtorek, 9 lutego 2021 11:23:07 CET\n"
     ]
    }
   ],
   "source": [
    "print(datetime.toString(Qt.ISODate))\n",
    "print(datetime.toString(Qt.DefaultLocaleLongDate))"
   ]
  },
  {
   "cell_type": "code",
   "execution_count": 17,
   "metadata": {},
   "outputs": [],
   "source": [
    "time = QTime.currentTime()\n",
    "# The currentTime method returns the current time"
   ]
  },
  {
   "cell_type": "code",
   "execution_count": 19,
   "metadata": {},
   "outputs": [
    {
     "name": "stdout",
     "output_type": "stream",
     "text": [
      "11:24:27\n",
      "11:24:27 CET\n"
     ]
    }
   ],
   "source": [
    "print(time.toString(Qt.ISODate))\n",
    "print(time.toString(Qt.DefaultLocaleLongDate))"
   ]
  },
  {
   "cell_type": "markdown",
   "metadata": {},
   "source": [
    "## UTC Time"
   ]
  },
  {
   "cell_type": "code",
   "execution_count": 24,
   "metadata": {},
   "outputs": [
    {
     "name": "stdout",
     "output_type": "stream",
     "text": [
      "Local datetime:  2021-02-09T11:31:09\n",
      "Universal datetime:  2021-02-09T10:31:09Z\n",
      "The offset from UTC is: 3600 seconds\n"
     ]
    }
   ],
   "source": [
    "now = QDateTime.currentDateTime()\n",
    "print('Local datetime: ', now.toString(Qt.ISODate))\n",
    "print('Universal datetime: ', now.toUTC().toString(Qt.ISODate))\n",
    "\n",
    "print(f'The offset from UTC is: {now.offsetFromUtc()} seconds')\n",
    "# This example determines the current universal and local date and time."
   ]
  },
  {
   "cell_type": "code",
   "execution_count": 25,
   "metadata": {},
   "outputs": [],
   "source": [
    "# The currentDateTime returns the current date and time expressed as local time.\n",
    "# The toUTC method returns the universal time.\n",
    "# The offsetFromUtc gives the difference between universal time and local time in seconds."
   ]
  },
  {
   "cell_type": "markdown",
   "metadata": {},
   "source": [
    "## Number of days"
   ]
  },
  {
   "cell_type": "code",
   "execution_count": 27,
   "metadata": {},
   "outputs": [
    {
     "name": "stdout",
     "output_type": "stream",
     "text": [
      "Days in month: 31\n",
      "Days in year: 365\n"
     ]
    }
   ],
   "source": [
    "now = QDate.currentDate()\n",
    "d = QDate(1945, 5, 7)\n",
    "\n",
    "print(f'Days in month: {d.daysInMonth()}')\n",
    "print(f'Days in year: {d.daysInYear()}')\n",
    "# This example prints the number of days in a month and year for the chosen date."
   ]
  },
  {
   "cell_type": "markdown",
   "metadata": {},
   "source": [
    "## Difference in days"
   ]
  },
  {
   "cell_type": "code",
   "execution_count": 29,
   "metadata": {},
   "outputs": [
    {
     "name": "stdout",
     "output_type": "stream",
     "text": [
      "47 days have passed since last XMas.\n",
      "There are 318 days until next XMas.\n"
     ]
    }
   ],
   "source": [
    "xmas1 = QDate(2020, 12, 24)\n",
    "xmas2 = QDate(2021, 12, 24)\n",
    "now = QDate.currentDate()\n",
    "\n",
    "daypassed = xmas1.daysTo(now)\n",
    "print(f'{daypassed} days have passed since last XMas.')\n",
    "\n",
    "nofdays = now.daysTo(xmas2)\n",
    "print(f'There are {nofdays} days until next XMas.')\n",
    "# This example calculate the number of days passed from the last XMas and the number of days until the next XMas."
   ]
  },
  {
   "cell_type": "markdown",
   "metadata": {},
   "source": [
    "## Datetime arithmetic"
   ]
  },
  {
   "cell_type": "code",
   "execution_count": 33,
   "metadata": {},
   "outputs": [
    {
     "name": "stdout",
     "output_type": "stream",
     "text": [
      "Today: 2021-02-09T11:49:41\n",
      "Adding 12 days: 2021-02-21T11:49:41\n",
      "Subtracting 22 days: 2021-01-18T11:49:41\n",
      "Adding 50 seconds: 2021-02-09T11:50:31\n",
      "Adding 3 months: 2021-05-09T11:49:41\n",
      "Adding 12 years: 2033-02-09T11:49:41\n"
     ]
    }
   ],
   "source": [
    "now = QDateTime.currentDateTime()\n",
    "\n",
    "print(f'Today: {now.toString(Qt.ISODate)}')\n",
    "print(f'Adding 12 days: {now.addDays(12).toString(Qt.ISODate)}')\n",
    "print(f'Subtracting 22 days: {now.addDays(-22).toString(Qt.ISODate)}')\n",
    "\n",
    "print(f'Adding 50 seconds: {now.addSecs(50).toString(Qt.ISODate)}')\n",
    "print(f'Adding 3 months: {now.addMonths(3).toString(Qt.ISODate)}')\n",
    "print(f'Adding 12 years: {now.addYears(12).toString(Qt.ISODate)}')\n",
    "# The example determines the current datetime and add ot subtract days, seconds, months and years."
   ]
  },
  {
   "cell_type": "markdown",
   "metadata": {},
   "source": [
    "## Daylight saving time"
   ]
  },
  {
   "cell_type": "code",
   "execution_count": 35,
   "metadata": {},
   "outputs": [
    {
     "name": "stdout",
     "output_type": "stream",
     "text": [
      "Time zone: CET\n",
      "The current date does not fall into DST time.\n"
     ]
    }
   ],
   "source": [
    "now = QDateTime.currentDateTime()\n",
    "\n",
    "print(f'Time zone: {now.timeZoneAbbreviation()}')\n",
    "if now.isDaylightTime():\n",
    "    print(f'The current date falls into DST time.')\n",
    "else:\n",
    "    print(f'The current date does not fall into DST time.')\n",
    "# This example checks if the datetime is in the daylight savng time."
   ]
  },
  {
   "cell_type": "code",
   "execution_count": 37,
   "metadata": {},
   "outputs": [],
   "source": [
    "# The timeZoneAbbreviation() method returns the time zone abbreviation for the datetime.\n",
    "# the isDayLightTime() method returns if the datetime falls in daylight saving time."
   ]
  },
  {
   "cell_type": "markdown",
   "metadata": {},
   "source": [
    "## Unix epoch"
   ]
  },
  {
   "cell_type": "code",
   "execution_count": 5,
   "metadata": {},
   "outputs": [],
   "source": [
    "# The Unix epoch is the time 00:00:00 UTC on 1 January 1970.\n",
    "# The date and time in a computer is determined according to the number of seconds or clock \n",
    "# ticks that have elapsed since the defined epoch for that computer platform.\n",
    "# Unix time is the number of seconds elapsed since Unix epoch."
   ]
  },
  {
   "cell_type": "code",
   "execution_count": 15,
   "metadata": {},
   "outputs": [
    {
     "name": "stdout",
     "output_type": "stream",
     "text": [
      "1612871420\n",
      "2021-02-09T12:50:20\n"
     ]
    }
   ],
   "source": [
    "now = QDateTime.currentDateTime()\n",
    "\n",
    "unix_time = now.toSecsSinceEpoch()\n",
    "print(unix_time)\n",
    "\n",
    "d = QDateTime.fromSecsSinceEpoch(unix_time)\n",
    "print(d.toString(Qt.ISODate))\n",
    "# This example prints the Unix time and converts it back to the QDateTime.\n",
    "# The toSecsSinceEpoch() returns the Unix time.\n",
    "# the fromSecsSinceEpoch() converts the Unix time to QDateTime."
   ]
  },
  {
   "cell_type": "markdown",
   "metadata": {},
   "source": [
    "## Julian Day"
   ]
  },
  {
   "cell_type": "code",
   "execution_count": 17,
   "metadata": {},
   "outputs": [
    {
     "name": "stdout",
     "output_type": "stream",
     "text": [
      "Gregorian date for today: 2021-02-09\n",
      "Julian day for today: 2459255\n"
     ]
    }
   ],
   "source": [
    "now = QDate.currentDate()\n",
    "print(f'Gregorian date for today: {now.toString(Qt.ISODate)}')\n",
    "print(f'Julian day for today: {now.toJulianDay()}')\n",
    "# In this example we compute the Gregorian date and the Julian day for today.\n",
    "# The Julian day is returned with the toJulianDay() method."
   ]
  },
  {
   "cell_type": "markdown",
   "metadata": {},
   "source": [
    "## Historical battles"
   ]
  },
  {
   "cell_type": "code",
   "execution_count": 23,
   "metadata": {},
   "outputs": [
    {
     "name": "stdout",
     "output_type": "stream",
     "text": [
      "Days since Slavkov battle: 78597\n",
      "Days since Borodino Battle: 76126\n"
     ]
    }
   ],
   "source": [
    "borodino_battle = QDate(1812, 9, 7)\n",
    "slavkov_battle = QDate(1805, 12, 2)\n",
    "\n",
    "now = QDate.currentDate()\n",
    "\n",
    "j_today = now.toJulianDay()\n",
    "j_bordino = borodino_battle.toJulianDay()\n",
    "j_slavkov = slavkov_battle.toJulianDay()\n",
    "\n",
    "d1 = j_today - j_slavkov\n",
    "d2 = j_today - j_bordino\n",
    "\n",
    "print(f'Days since Slavkov battle: {d1}')\n",
    "print(f'Days since Borodino Battle: {d2}')\n",
    "# This example counts the number of days passed since two historical events."
   ]
  }
 ],
 "metadata": {
  "kernelspec": {
   "display_name": "Python 3",
   "language": "python",
   "name": "python3"
  },
  "language_info": {
   "codemirror_mode": {
    "name": "ipython",
    "version": 3
   },
   "file_extension": ".py",
   "mimetype": "text/x-python",
   "name": "python",
   "nbconvert_exporter": "python",
   "pygments_lexer": "ipython3",
   "version": "3.8.5"
  }
 },
 "nbformat": 4,
 "nbformat_minor": 4
}
