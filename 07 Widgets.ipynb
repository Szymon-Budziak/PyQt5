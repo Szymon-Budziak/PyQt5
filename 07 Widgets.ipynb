{
 "cells": [
  {
   "cell_type": "code",
   "execution_count": 1,
   "metadata": {},
   "outputs": [],
   "source": [
    "# Widgets are basic building blocks of an application. PyQt5 has a wide range of various widgets,\n",
    "# including buttons, check boxes, sliders or list boxes. In this section we will cover several useful\n",
    "# widgets: a QCheckBox, a QPushButton in toggle mode, a QSlider, a QProgressBar and a QCalendar Widget."
   ]
  },
  {
   "cell_type": "markdown",
   "metadata": {},
   "source": [
    "## QCheckBox"
   ]
  },
  {
   "cell_type": "code",
   "execution_count": 2,
   "metadata": {},
   "outputs": [],
   "source": [
    "# A QCheckBox is a widget that has two states: on and off. It is a box with a label. Checkboxes\n",
    "# are typically used to represent features in an application that can be enabled or disabled."
   ]
  },
  {
   "cell_type": "code",
   "execution_count": 3,
   "metadata": {},
   "outputs": [],
   "source": [
    "import sys\n",
    "from PyQt5.QtWidgets import QWidget, QCheckBox, QApplication\n",
    "from PyQt5.QtCore import Qt"
   ]
  },
  {
   "cell_type": "code",
   "execution_count": null,
   "metadata": {},
   "outputs": [],
   "source": [
    "class Example(QWidget):\n",
    "    def __init__(self):\n",
    "        super().__init__()\n",
    "        self.initUI()\n",
    "        \n",
    "    def initUI(self):\n",
    "        cb = QCheckBox('Show title', self)\n",
    "        cb.move(20, 20)\n",
    "        cb.toggle()\n",
    "        cb.stateChanged.connect(self.changeTitle)\n",
    "        \n",
    "        self.setGeometry(300, 300, 350, 250)\n",
    "        self.setWindowTitle('QCheckBox')\n",
    "        self.show()\n",
    "        \n",
    "    def changeTitle(self, state):\n",
    "        if state == Qt.Checked:\n",
    "            self.setWindowTitle('QCheckBox')\n",
    "        else:\n",
    "            self.setWindowTitle(' ')\n",
    "        \n",
    "        \n",
    "def main():\n",
    "    app = QApplication(sys.argv)\n",
    "    ex = Example()\n",
    "    sys.exit(app.exec_())\n",
    "    \n",
    "if __name__ == '__main__':\n",
    "    main()\n",
    "# In this example we will create a checkbox that will toggle the window title.\n",
    "# A QCheckBox constructor is cb = QCheckBox('Show title', self).\n",
    "# We connect the user defined changeTitle() method to the stateChanged signal.\n",
    "# The changeTitle() method will toggle the window title.\n",
    "# The state of the widget is given to the changeTitle() method in the state variable.\n",
    "# If the widget is checked, we set a title of the window. Otherwise, we set an empty string to the titlebar."
   ]
  },
  {
   "cell_type": "markdown",
   "metadata": {},
   "source": [
    "## Toggle button"
   ]
  },
  {
   "cell_type": "code",
   "execution_count": null,
   "metadata": {},
   "outputs": [],
   "source": [
    "# A toggle button is a QPushButton in a special mode. It is a button that has two states:\n",
    "# pressed and not pressed. We toggle between those two states by clicking it."
   ]
  },
  {
   "cell_type": "code",
   "execution_count": null,
   "metadata": {},
   "outputs": [],
   "source": [
    "import sys\n",
    "from PyQt5.QtWidgets import QApplication, QPushButton, QWidget, QFrame\n",
    "from PyQt5.QtGui import QColor"
   ]
  },
  {
   "cell_type": "code",
   "execution_count": null,
   "metadata": {},
   "outputs": [],
   "source": [
    "class Example2(QWidget):\n",
    "    def __init__(self):\n",
    "        super().__init__()\n",
    "        self.initUI()\n",
    "        \n",
    "    def initUI(self):\n",
    "        self.col = QColor(0, 0, 0)\n",
    "        \n",
    "        redb = QPushButton('Red', self)\n",
    "        redb.setCheckable(True)\n",
    "        redb.move(10, 10)\n",
    "        redb.clicked[bool].connect(self.setColor)\n",
    "        \n",
    "        greenb = QPushButton('Green', self)\n",
    "        greenb.setCheckable(True)\n",
    "        greenb.move(10, 60)\n",
    "        greenb.clicked[bool].connect(self.setColor)\n",
    "        \n",
    "        blueb = QPushButton('Blue', self)\n",
    "        blueb.setCheckable(True)\n",
    "        blueb.move(10, 110)\n",
    "        blueb.clicked[bool].connect(self.setColor)\n",
    "        \n",
    "        self.square = QFrame(self)\n",
    "        self.square.setGeometry(150, 20, 100, 100)\n",
    "        self.square.setStyleSheet(\"QWidget {background-color: %s}\" % self.col.name())\n",
    "        \n",
    "        self.setGeometry(300, 300, 300, 250)\n",
    "        self.setWindowTitle('Toggle button')\n",
    "        self.show()\n",
    "        \n",
    "    def setColor(self, pressed):\n",
    "        source = self.sender()\n",
    "        if pressed:\n",
    "            val = 255\n",
    "        else:\n",
    "            val = 0\n",
    "        \n",
    "        if source.text() == 'Red':\n",
    "            self.col.setRed(val)\n",
    "        elif source.text() == 'Green':\n",
    "            self.col.setGreen(val)\n",
    "        else:\n",
    "            self.col.setBlue(val)\n",
    "            \n",
    "        self.square.setStyleSheet(\"QFrame {background-color: %s}\" % self.col.name())\n",
    "        \n",
    "        \n",
    "def main():\n",
    "    app = QApplication(sys.argv)\n",
    "    ex = Example2()\n",
    "    sys.exit(app.exec_())\n",
    "    \n",
    "if __name__ == '__main__':\n",
    "    main()\n",
    "# In this example we create three toggle buttons and a QWidget. \n",
    "# The toggle buttons will toggle the red, green and blue parts of the color value.\n",
    "# The background colour depends on which toggle buttons is pressed.\n",
    "# The initial black colour value is QColor(0, 0, 0).\n",
    "# To create a toggle button we create a QPushButton and make it checkable by calling the setCheckable() method.\n",
    "# We connect a clicked signal to our user defined method. We use the clicked signal that operates with Boolean value.\n",
    "# We use style sheets to change the background colour. The stylesheet is updated with setStyleSheet() method."
   ]
  },
  {
   "cell_type": "markdown",
   "metadata": {},
   "source": [
    "## Slider"
   ]
  },
  {
   "cell_type": "code",
   "execution_count": null,
   "metadata": {},
   "outputs": [],
   "source": [
    "# A QSlider is a widget that has a simple handle. This handle can be pulled back and forth. \n",
    "# This wat we are choosing a value for a specific task. Sometimes using a slider is more\n",
    "# natural than entering a number or using a spin box."
   ]
  },
  {
   "cell_type": "code",
   "execution_count": null,
   "metadata": {},
   "outputs": [],
   "source": [
    "import sys\n",
    "from PyQt5.QtWidgets import QWidget, QApplication, QSlider, QLabel\n",
    "from PyQt5.QtCore import Qt\n",
    "from PyQt5.QtGui import QPixmap"
   ]
  },
  {
   "cell_type": "code",
   "execution_count": null,
   "metadata": {},
   "outputs": [],
   "source": [
    "class Example4(QWidget):\n",
    "    def __init__(self):\n",
    "        super().__init__()\n",
    "        self.initUI()\n",
    "        \n",
    "    def initUI(self):\n",
    "        sld = QSlider(Qt.Horizontal, self)\n",
    "        sld.setFocusPolicy(Qt.NoFocus)\n",
    "        sld.setGeometry(30, 40, 200, 30)\n",
    "        sld.valueChanged[int].connect(self.changeValue)\n",
    "        \n",
    "        self.label = QLabel(self)\n",
    "        self.label.setPixmap(QPixmap('mute.png'))\n",
    "        self.label.setGeometry(300, 300, 300, 300)\n",
    "\n",
    "        self.setGeometry(100, 60, 1000, 800)\n",
    "        self.setWindowTitle('QSlider')\n",
    "        self.show()\n",
    "        \n",
    "    def changeValue(self, value):\n",
    "        if value == 0:\n",
    "            self.label.setPixmap(QPixmap('mute.png'))\n",
    "        elif 0 < value <= 30:\n",
    "            self.label.setPixmap(QPixmap('min.png'))\n",
    "        elif 30 < value < 80:\n",
    "            self.label.setPixmap(QPixmap('med.png'))\n",
    "        else:\n",
    "            self.label.setPixmap(QPixmap('max.png'))\n",
    "            \n",
    "            \n",
    "def main():\n",
    "    app = QApplication(sys.argv)\n",
    "    ex = Example4()\n",
    "    sys.exit(app.exec_())\n",
    "    \n",
    "if __name__ == '__main__':\n",
    "    main()\n",
    "# In this example we simulate a volume control. By dragging the handle of a slider, we change an image on the label.\n",
    "# QSlider(Qt.Horizontal, self), here we create a horizontal QSlider.\n",
    "# We create a QLabel widget and set an initial mute image to it.\n",
    "# We connect the valueChanged signal to the user defined changeValue() method.\n",
    "# Based on the value of the slider, we set an image to the label."
   ]
  },
  {
   "cell_type": "markdown",
   "metadata": {},
   "source": [
    "## QProgressBar"
   ]
  },
  {
   "cell_type": "code",
   "execution_count": null,
   "metadata": {},
   "outputs": [],
   "source": [
    "# A progress bar is a widget that is used when we process lengthy tasks. It is animated so\n",
    "# that the user knows that the task is progressing. The QProgressBar widget provides\n",
    "# a horizontal or a vertcal progress bar in PyQt5 toolkit. The programmer can set the minimum\n",
    "# and maximum value for the progress bar. The default values are 0 and 99."
   ]
  },
  {
   "cell_type": "code",
   "execution_count": null,
   "metadata": {},
   "outputs": [],
   "source": [
    "import sys\n",
    "from PyQt5.QtWidgets import QWidget, QApplication, QProgressBar, QPushButton\n",
    "from PyQt5.QtCore import QBasicTimer"
   ]
  },
  {
   "cell_type": "code",
   "execution_count": null,
   "metadata": {},
   "outputs": [],
   "source": [
    "class Example5(QWidget):\n",
    "    def __init__(self):\n",
    "        super().__init__()\n",
    "        self.initUI()\n",
    "        \n",
    "    def initUI(self):\n",
    "        self.pbar = QProgressBar(self)\n",
    "        self.pbar.setGeometry(30, 40, 200, 25)\n",
    "        \n",
    "        self.btn = QPushButton('Start', self)\n",
    "        self.btn.move(40, 80)\n",
    "        self.btn.clicked.connect(self.doAction)\n",
    "        \n",
    "        self.timer = QBasicTimer()\n",
    "        self.step = 0\n",
    "        \n",
    "        self.setGeometry(300, 300, 280, 170)\n",
    "        self.setWindowTitle('QProgressBar')\n",
    "        self.show()\n",
    "        \n",
    "    def timerEvent(self, e):\n",
    "        if self.step >= 100:\n",
    "            self.timer.stop()\n",
    "            self.btn.setText('Finished')\n",
    "            return\n",
    "        \n",
    "        self.step = self.step + 1\n",
    "        self.pbar.setValue(self.step)\n",
    "        \n",
    "    def doAction(self):\n",
    "        if self.timer.isActive():\n",
    "            self.timer.stop()\n",
    "            self.btn.setText('Start')\n",
    "        else:\n",
    "            self.timer.start(100, self)\n",
    "            self.btn.setText('Stop')\n",
    "            \n",
    "            \n",
    "def main():\n",
    "    app = QApplication(sys.argv)\n",
    "    ex = Example5()\n",
    "    sys.exit(app.exec_())\n",
    "    \n",
    "if __name__ == '__main__':\n",
    "    main()\n",
    "# In this example we have a horizontal progress bar and a push button. The push button starts and stops the progress bar.\n",
    "# The QProgressBar constructor is QProgressBar(self).\n",
    "# To activate the progress bar we use a timer object QBasicTimer().\n",
    "# To launch a timer event we call its start() method.\n",
    "# This method has two parameters: the timeout and the object which will receive the events.\n",
    "# Each QObject and its descends have a timerEvent() event handler.\n",
    "# Inside the doAction() method, we start and stop the timer."
   ]
  },
  {
   "cell_type": "markdown",
   "metadata": {},
   "source": [
    "## QCalendarWidget"
   ]
  },
  {
   "cell_type": "code",
   "execution_count": null,
   "metadata": {},
   "outputs": [],
   "source": [
    "# A QCalendarWidget provides a monthly based calendar widget.\n",
    "# It allows a user to select a date in a simple and intuitive way."
   ]
  },
  {
   "cell_type": "code",
   "execution_count": null,
   "metadata": {},
   "outputs": [],
   "source": [
    "import sys\n",
    "from PyQt5.QtWidgets import QApplication, QWidget, QCalendarWidget, QLabel, QVBoxLayout\n",
    "from PyQt5.QtCore import QDate"
   ]
  },
  {
   "cell_type": "code",
   "execution_count": null,
   "metadata": {},
   "outputs": [],
   "source": [
    "class Example6(QWidget):\n",
    "    def __init__(self):\n",
    "        super().__init__()\n",
    "        self.initUI()\n",
    "    \n",
    "    def initUI(self):\n",
    "        vbox = QVBoxLayout()\n",
    "        \n",
    "        cal = QCalendarWidget(self)\n",
    "        cal.setGridVisible(True)\n",
    "        cal.clicked[QDate].connect(self.showDate)\n",
    "        vbox.addWidget(cal)\n",
    "        \n",
    "        self.lbl = QLabel(self)\n",
    "        date = cal.selectedDate()\n",
    "        self.lbl.setText(date.toString())\n",
    "        vbox.addWidget(self.lbl)\n",
    "        \n",
    "        self.setLayout(vbox)\n",
    "        \n",
    "        self.setGeometry(300, 300, 350, 300)\n",
    "        self.setWindowTitle('Calendar')\n",
    "        self.show()\n",
    "        \n",
    "    def showDate(self, date):\n",
    "        self.lbl.setText(date.toString())\n",
    "        \n",
    "        \n",
    "def main():\n",
    "    app = QApplication(sys.argv)\n",
    "    ex = Example6()\n",
    "    sys.exit(app.exec_())\n",
    "    \n",
    "if __name__ == '__main__':\n",
    "    main()\n",
    "# In this example we have created a calendar which has widget and a label widget.\n",
    "# The currently selected date is displayed in the label widget.\n",
    "# The QCalendarWidget is created by QCalendarWidget(self).\n",
    "# If we select a date from the widget, a clicked[QDate] signal is emitted.\n",
    "# We connect this signal to the user defined showDate() method.\n",
    "# We retrieve the selected date by calling the selectedDate() method.\n",
    "# Then we transform the date object into a string and set it to the label widget."
   ]
  }
 ],
 "metadata": {
  "kernelspec": {
   "display_name": "Python 3",
   "language": "python",
   "name": "python3"
  },
  "language_info": {
   "codemirror_mode": {
    "name": "ipython",
    "version": 3
   },
   "file_extension": ".py",
   "mimetype": "text/x-python",
   "name": "python",
   "nbconvert_exporter": "python",
   "pygments_lexer": "ipython3",
   "version": "3.8.5"
  }
 },
 "nbformat": 4,
 "nbformat_minor": 4
}
